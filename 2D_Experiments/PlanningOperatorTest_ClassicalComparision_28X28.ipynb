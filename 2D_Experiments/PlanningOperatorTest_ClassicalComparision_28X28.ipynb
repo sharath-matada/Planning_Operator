{
 "cells": [
  {
   "cell_type": "code",
   "execution_count": 1,
   "metadata": {},
   "outputs": [],
   "source": [
    "import numpy as np\n",
    "import time\n",
    "import matplotlib.pyplot as plt; plt.ion()\n",
    "from matplotlib import colors as mcolors\n",
    "from matplotlib.image import AxesImage\n",
    "from matplotlib.collections import PolyCollection, LineCollection, PathCollection\n",
    "from mpl_toolkits.mplot3d.art3d import Poly3DCollection, Line3DCollection, Path3DCollection\n",
    "\n",
    "from scipy.io import loadmat\n",
    "from astar.astar import  AStar\n",
    "from astar.environment_simple import Environment2D\n",
    "\n",
    "def tic():\n",
    "  return time.time()\n",
    "def toc(tstart, nm=\"\"):\n",
    "  # print('%s took %s sec.\\n' % (nm,(time.time() - tstart)))\n",
    "  return (time.time() - tstart)"
   ]
  },
  {
   "cell_type": "code",
   "execution_count": 2,
   "metadata": {},
   "outputs": [],
   "source": [
    "def drawMap(ax,cmap):\n",
    "  '''\n",
    "    Draws the matrix cmap as a grayscale image in the axes ax\n",
    "    and returns a handle to the plot.\n",
    "    The handle can be used later to update the map like so:\n",
    "    \n",
    "    f, ax = plt.subplots()\n",
    "    h = drawMap(ax, cmap)\n",
    "    # update cmap\n",
    "    h = drawMap(h,cmap)\n",
    "  '''\n",
    "  if type(ax) is AxesImage:\n",
    "    # update image data\n",
    "    ax.set_data(cmap)\n",
    "  else:\n",
    "    # setup image data for the first time\n",
    "    # transpose because imshow places the first dimension on the y-axis\n",
    "    h = ax.imshow( cmap.T, interpolation=\"none\", cmap='gray_r', origin='lower', \\\n",
    "                   extent=(-0.5,cmap.shape[0]-0.5, -0.5, cmap.shape[1]-0.5) )\n",
    "    ax.axis([-0.5, cmap.shape[0]-0.5, -0.5, cmap.shape[1]-0.5])\n",
    "    ax.set_xlabel('x')\n",
    "    ax.set_ylabel('y')\n",
    "    return h\n",
    "\n",
    "def drawPath2D(ax, traj):\n",
    "  ''' h = drawPath2D(h,traj)\n",
    "      \n",
    "      traj = num_traj x num_pts x num_dim\n",
    "  '''\n",
    "  if(traj.ndim < 3):\n",
    "    traj = traj[None,...]\n",
    "\n",
    "  if type(ax) is LineCollection:\n",
    "    ax.set_verts(traj)\n",
    "  else:\n",
    "    colors = [mcolors.to_rgba(c)\n",
    "              for c in plt.rcParams['axes.prop_cycle'].by_key()['color']]\n",
    "    h = ax.add_collection(LineCollection(traj,colors=colors))\n",
    "    return h\n",
    "\n",
    "def drawPath3D(ax, traj):\n",
    "  ''' h = drawPath3D(h,traj)\n",
    "      \n",
    "      traj = num_traj x num_pts x num_dim\n",
    "  ''' \n",
    "  if(traj.ndim < 3):\n",
    "    traj = traj[None,...]\n",
    "\n",
    "  if type(ax) is Line3DCollection:\n",
    "    ax.set_verts(traj)\n",
    "  else:\n",
    "    colors = [mcolors.to_rgba(c)\n",
    "              for c in plt.rcParams['axes.prop_cycle'].by_key()['color']]\n",
    "    h = ax.add_collection(Line3DCollection(traj,colors=colors))\n",
    "    return h\n"
   ]
  },
  {
   "cell_type": "markdown",
   "metadata": {},
   "source": [
    "A* Performance on Mazes"
   ]
  },
  {
   "cell_type": "code",
   "execution_count": 3,
   "metadata": {},
   "outputs": [
    {
     "name": "stdout",
     "output_type": "stream",
     "text": [
      "Average Time Taken by A*: 0.003216294527053833\n"
     ]
    }
   ],
   "source": [
    "testing_data_28x28 = loadmat('gridworld_28_test.mat')\n",
    "total_time = 0\n",
    "for map_id in range(0,1000):\n",
    "    cmap = 1-testing_data_28x28[\"all_im_data\"].reshape(1000,28,28)[map_id,:,:].T\n",
    "    goal_coord = testing_data_28x28[\"all_states_xy\"][map_id][0][-1]-1\n",
    "    start_coord = testing_data_28x28[\"all_states_xy\"][map_id][0][0]-1\n",
    "    env = Environment2D(goal_coord,cmap)\n",
    "    t1 = tic()\n",
    "    path_cost, path, action_idx = AStar.plan(start_coord, env)\n",
    "    dt = toc(t1, \"A*\")\n",
    "    total_time+=dt\n",
    "\n",
    "print(\"Average Time Taken by A*:\", total_time/1000)\n"
   ]
  }
 ],
 "metadata": {
  "kernelspec": {
   "display_name": "neuraloperator",
   "language": "python",
   "name": "python3"
  },
  "language_info": {
   "codemirror_mode": {
    "name": "ipython",
    "version": 3
   },
   "file_extension": ".py",
   "mimetype": "text/x-python",
   "name": "python",
   "nbconvert_exporter": "python",
   "pygments_lexer": "ipython3",
   "version": "3.8.18"
  }
 },
 "nbformat": 4,
 "nbformat_minor": 2
}
