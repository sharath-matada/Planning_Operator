{
 "cells": [
  {
   "cell_type": "code",
   "execution_count": 1,
   "metadata": {},
   "outputs": [],
   "source": [
    "import numpy as np\n",
    "from dijkstra_data_generator import create_dataset\n",
    "import matplotlib.pyplot as plt\n",
    "\n",
    "import os\n",
    "import sys\n",
    "\n",
    "os.chdir('..')\n"
   ]
  },
  {
   "cell_type": "code",
   "execution_count": 2,
   "metadata": {},
   "outputs": [],
   "source": [
    "\n",
    "training_data_1024x1024 = np.load(\"dataset/street_maps_1024.npy\")\n",
    "np.random.shuffle(training_data_1024x1024)"
   ]
  },
  {
   "cell_type": "code",
   "execution_count": 3,
   "metadata": {},
   "outputs": [
    {
     "name": "stderr",
     "output_type": "stream",
     "text": [
      "100%|██████████| 25/25 [1:40:24<00:00, 240.98s/it]\n",
      "100%|██████████| 25/25 [1:58:36<00:00, 284.65s/it]\n",
      "100%|██████████| 500/500 [00:21<00:00, 23.30it/s]\n",
      "100%|██████████| 5/5 [19:28<00:00, 233.69s/it]\n",
      "100%|██████████| 50/50 [00:02<00:00, 20.03it/s]\n"
     ]
    }
   ],
   "source": [
    "train_trial = 25\n",
    "test_trial = 5\n",
    "\n",
    "env_size = 1024\n",
    "\n",
    "travel_time_values_array_train, signed_distance_array_train, velocity_matrices_array_train, goals_train = create_dataset(training_data=training_data_1024x1024[:train_trial,:,:], num_trials=train_trial, goal_trials=10, env_size=env_size,erosion_trials = 2)\n",
    "travel_time_values_array_test,  signed_distance_array_test,  velocity_matrices_array_test,  goals_test =  create_dataset(training_data=training_data_1024x1024[train_trial:,:,:], num_trials=test_trial,  goal_trials=10, env_size=env_size,erosion_trials = 1)"
   ]
  },
  {
   "cell_type": "code",
   "execution_count": 4,
   "metadata": {},
   "outputs": [],
   "source": [
    "np.save(\"/media/sharath/Expansion/goals.npy\",np.concatenate((goals_train,goals_test), axis=0))\n",
    "\n",
    "# Save velocity_matrices_array as \"mask.npy\"\n",
    "np.save(\"/media/sharath/Expansion/mask.npy\", np.concatenate((velocity_matrices_array_train,velocity_matrices_array_test), axis=0))\n",
    "\n",
    "# Save travel_time_values_array as \"output.npy\"\n",
    "np.save(\"/media/sharath/Expansion/output.npy\", np.concatenate((travel_time_values_array_train,travel_time_values_array_test), axis=0))\n",
    "\n",
    "# Save signed_distance_array as \"dist_in.npy\"\n",
    "np.save(\"/media/sharath/Expansion/dist_in.npy\", np.concatenate((signed_distance_array_train,signed_distance_array_test),axis=0))"
   ]
  },
  {
   "cell_type": "code",
   "execution_count": 5,
   "metadata": {},
   "outputs": [
    {
     "data": {
      "text/plain": [
       "(550, 256, 256)"
      ]
     },
     "execution_count": 5,
     "metadata": {},
     "output_type": "execute_result"
    }
   ],
   "source": [
    "x = np.load(\"dataset/street_maps_256x256_dijkstra/mask.npy\")\n",
    "x.shape"
   ]
  }
 ],
 "metadata": {
  "kernelspec": {
   "display_name": "neuraloperator",
   "language": "python",
   "name": "python3"
  },
  "language_info": {
   "codemirror_mode": {
    "name": "ipython",
    "version": 3
   },
   "file_extension": ".py",
   "mimetype": "text/x-python",
   "name": "python",
   "nbconvert_exporter": "python",
   "pygments_lexer": "ipython3",
   "version": "3.8.18"
  }
 },
 "nbformat": 4,
 "nbformat_minor": 2
}
