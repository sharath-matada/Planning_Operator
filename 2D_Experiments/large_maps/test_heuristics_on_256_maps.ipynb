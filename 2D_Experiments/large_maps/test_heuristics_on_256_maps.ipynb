{
 "cells": [
  {
   "cell_type": "code",
   "execution_count": 1,
   "metadata": {},
   "outputs": [],
   "source": [
    "import os\n",
    "import sys\n",
    "\n",
    "import matplotlib.pyplot as plt\n",
    "\n",
    "os.chdir('..')\n",
    "\n",
    "import numpy as np\n",
    "import torch\n",
    "import pandas as pd\n",
    "from models.TrainPlanningOperator2D import PlanningOperator2D\n",
    "from heuristics import generaterandompos\n",
    "from heuristics import euclideannorm, FMM, dijkstra, planningoperator, scikitFMM, highresFMM\n",
    "from heuristics import testheuristiconmaps, testheuristiconsinglemap\n",
    "\n"
   ]
  },
  {
   "cell_type": "markdown",
   "metadata": {},
   "source": [
    "Load Test Maps"
   ]
  },
  {
   "cell_type": "code",
   "execution_count": 2,
   "metadata": {},
   "outputs": [],
   "source": [
    "Ntotal = 550\n",
    "ntest = 0\n",
    "sub = 1\n",
    "Sx = Sy = int(((256 - 1) / sub) + 1)\n",
    "maps = np.load('dataset/street_maps_256x256_dijkstra/mask.npy')\n",
    "maps = maps[:Ntotal][-ntest:, ::sub, ::sub][:, :Sx, :Sy]"
   ]
  },
  {
   "cell_type": "markdown",
   "metadata": {},
   "source": [
    "Generate Random Start and Goal Positions on Maps"
   ]
  },
  {
   "cell_type": "code",
   "execution_count": 3,
   "metadata": {},
   "outputs": [],
   "source": [
    "startpositions = generaterandompos(maps)\n",
    "goalpositions = generaterandompos(maps)"
   ]
  },
  {
   "cell_type": "markdown",
   "metadata": {},
   "source": [
    "Comparing Euclidean Norm, FMM, Dijkstra Heuristic"
   ]
  },
  {
   "cell_type": "code",
   "execution_count": 4,
   "metadata": {},
   "outputs": [
    {
     "name": "stdout",
     "output_type": "stream",
     "text": [
      "Testing Euclidean Norm\n",
      "Average Path Cost: 145.5502389116099 \n",
      "Average Planning Time: 0.13553253043781627 \n",
      "Average Inference Time: 0.0014663531563498756 \n",
      "Average Number of Node Expansions: 3882.32 \n",
      "Average Success Rate: 1.0\n"
     ]
    }
   ],
   "source": [
    "# Euclidean Norm\n",
    "print(\"Testing Euclidean Norm\")\n",
    "euclidean_results = testheuristiconmaps(startpositions, goalpositions, maps, euclideannorm, plotresults=False, printvalues=True)\n",
    "\n",
    "\n",
    "# # FMM\n",
    "# print(\"Testing FMM\")\n",
    "# fmm_results = testheuristiconmaps(startpositions, goalpositions, maps, FMM, plotresults=False, printvalues=False)\n",
    "\n",
    "# # Dijkstra\n",
    "# print(\"Testing Dijkstra\")\n",
    "# dijkstra_results = testheuristiconmaps(startpositions, goalpositions, maps, dijkstra, plotresults=False, printvalues=False)\n",
    "\n",
    "\n",
    "# data = {\n",
    "#     \"Heuristic\": [\"Euclidean Norm\", \"FMM\", \"Dijkstra\"],\n",
    "#     \"Avg Path Cost\": [euclidean_results[0], fmm_results[0], dijkstra_results[0]],\n",
    "#     \"Avg Planning Time\": [euclidean_results[1], fmm_results[1], dijkstra_results[1]],\n",
    "#     \"Avg Inference Time\": [euclidean_results[2], fmm_results[2], dijkstra_results[2]],\n",
    "#     \"Avg Nodes Expanded\": [euclidean_results[3], fmm_results[3], dijkstra_results[3]],\n",
    "#     \"Avg Success Rate\": [euclidean_results[4], fmm_results[4], dijkstra_results[4]],\n",
    "# }\n",
    "\n",
    "\n",
    "# results_df = pd.DataFrame(data)\n",
    "\n",
    "\n",
    "# results_df"
   ]
  },
  {
   "cell_type": "markdown",
   "metadata": {},
   "source": [
    "Planning Operator"
   ]
  },
  {
   "cell_type": "code",
   "execution_count": 5,
   "metadata": {},
   "outputs": [
    {
     "data": {
      "text/plain": [
       "PlanningOperator2D(\n",
       "  (fc0): Linear(in_features=2, out_features=32, bias=True)\n",
       "  (conv0): SpectralConv2d()\n",
       "  (w0): Conv2d(32, 32, kernel_size=(1, 1), stride=(1, 1))\n",
       "  (conv1): SpectralConv2d()\n",
       "  (w1): Conv2d(32, 32, kernel_size=(1, 1), stride=(1, 1))\n",
       "  (conv2): SpectralConv2d()\n",
       "  (w2): Conv2d(32, 32, kernel_size=(1, 1), stride=(1, 1))\n",
       "  (conv3): SpectralConv2d()\n",
       "  (w3): Conv2d(32, 32, kernel_size=(1, 1), stride=(1, 1))\n",
       "  (conv4): SpectralConv2d()\n",
       "  (w4): Conv2d(32, 32, kernel_size=(1, 1), stride=(1, 1))\n",
       "  (fc1): DeepNormMetric(\n",
       "    (Us): ModuleList(\n",
       "      (0-1): 2 x Linear(in_features=32, out_features=128, bias=False)\n",
       "    )\n",
       "    (Ws): ModuleList(\n",
       "      (0): ConstrainedLinear(in_features=128, out_features=128, bias=False)\n",
       "    )\n",
       "    (activation): MaxReLUPairwiseActivation(\n",
       "      (avg_pool): AvgPool1d(kernel_size=(2,), stride=(2,), padding=(0,))\n",
       "    )\n",
       "    (output_activation): ConcaveActivation()\n",
       "    (reduce_metric): ReduceMetric()\n",
       "  )\n",
       ")"
      ]
     },
     "execution_count": 5,
     "metadata": {},
     "output_type": "execute_result"
    }
   ],
   "source": [
    "# Model\n",
    "modes = 12\n",
    "width = 32\n",
    "nlayers = 5\n",
    "\n",
    "model = PlanningOperator2D(modes, modes, width, nlayers)\n",
    "model.load_state_dict(torch.load(\"trained_models/modeldijkstra256.ckpt\"))\n",
    "model.eval()\n",
    "device = torch.device('cuda' if torch.cuda.is_available() else 'cpu')\n",
    "model.to(device)\n",
    "\n",
    "# erosion_values = []\n",
    "# avgpathcost_values = []\n",
    "# avgplantime_values = []\n",
    "# avginfertime_values = []\n",
    "# avgnodesexp_values = []\n",
    "# avgsuccessrate_values = []\n",
    "\n",
    "# # Run the loop and store results\n",
    "# for erode in range(1, 25):\n",
    "    \n",
    "#     # Call your function and store the results\n",
    "#     avgpathcost, avgplantime, avginfertime, avgnodesexp, avgsuccessrate = testheuristiconmaps(\n",
    "#         startpositions, goalpositions, maps, planningoperator, model=model, erosion=erode, plotresults=False, printvalues=False\n",
    "#     )\n",
    "    \n",
    "#     # Append results to lists\n",
    "#     erosion_values.append(erode)\n",
    "#     avgpathcost_values.append(avgpathcost)\n",
    "#     avgplantime_values.append(avgplantime)\n",
    "#     avginfertime_values.append(avginfertime)\n",
    "#     avgnodesexp_values.append(avgnodesexp)\n",
    "#     avgsuccessrate_values.append(avgsuccessrate)\n",
    "\n",
    "# # Plotting the results\n",
    "# plt.figure(figsize=(14, 8))\n",
    "\n",
    "# # Plot for avgpathcost\n",
    "# plt.subplot(3, 2, 1)\n",
    "# plt.plot(erosion_values, avgpathcost_values, marker='o')\n",
    "# plt.title('Average Path Cost vs Erosion')\n",
    "# plt.xlabel('Erosion')\n",
    "# plt.ylabel('Avg Path Cost')\n",
    "\n",
    "# # Plot for avgplantime\n",
    "# plt.subplot(3, 2, 2)\n",
    "# plt.plot(erosion_values, avgplantime_values, marker='o')\n",
    "# plt.title('Average Planning Time vs Erosion')\n",
    "# plt.xlabel('Erosion')\n",
    "# plt.ylabel('Avg Planning Time')\n",
    "\n",
    "# # Plot for avginfertime\n",
    "# plt.subplot(3, 2, 3)\n",
    "# plt.plot(erosion_values, avginfertime_values, marker='o')\n",
    "# plt.title('Average Inference Time vs Erosion')\n",
    "# plt.xlabel('Erosion')\n",
    "# plt.ylabel('Avg Inference Time')\n",
    "\n",
    "# # Plot for avgnodesexp\n",
    "# plt.subplot(3, 2, 4)\n",
    "# plt.plot(erosion_values, avgnodesexp_values, marker='o')\n",
    "# plt.title('Average Nodes Expanded vs Erosion')\n",
    "# plt.xlabel('Erosion')\n",
    "# plt.ylabel('Avg Nodes Expanded')\n",
    "\n",
    "# # Plot for avgsuccessrate\n",
    "# plt.subplot(3, 2, 5)\n",
    "# plt.plot(erosion_values, avgsuccessrate_values, marker='o')\n",
    "# plt.title('Average Success Rate vs Erosion')\n",
    "# plt.xlabel('Erosion')\n",
    "# plt.ylabel('Avg Success Rate')\n",
    "\n",
    "# # Adjust layout and show the plot\n",
    "# plt.tight_layout()\n",
    "# plt.show()"
   ]
  },
  {
   "cell_type": "code",
   "execution_count": 7,
   "metadata": {},
   "outputs": [
    {
     "name": "stdout",
     "output_type": "stream",
     "text": [
      "Average Path Cost: 146.64238531705035 \n",
      "Average Planning Time: 0.09871720964258367 \n",
      "Average Inference Time: 0.03382973367517645 \n",
      "Average Number of Node Expansions: 2475.6745454545453 \n",
      "Average Success Rate: 1.0\n"
     ]
    }
   ],
   "source": [
    "no_results = testheuristiconmaps(startpositions, goalpositions, maps, planningoperator, plotresults=False, printvalues=True, erosion = 5, model=model)"
   ]
  },
  {
   "cell_type": "code",
   "execution_count": 6,
   "metadata": {},
   "outputs": [
    {
     "name": "stdout",
     "output_type": "stream",
     "text": [
      "With A* updated\n",
      "Average Path Cost: 146.05228954847163 \n",
      "Average Planning Time: 0.17170224753293123 \n",
      "Average Inference Time: 0.0337225645238703 \n",
      "Average Number of Node Expansions: 4483.169090909091 \n",
      "Average Success Rate: 1.0\n"
     ]
    }
   ],
   "source": [
    "print(\"With A* updated\")\n",
    "no_results = testheuristiconmaps(startpositions, goalpositions, maps, planningoperator, plotresults=False, printvalues=True, erosion = 5, model=model)"
   ]
  },
  {
   "cell_type": "markdown",
   "metadata": {},
   "source": [
    "\n",
    "\n",
    "Testing Euclidean Norm\n",
    "Average Path Cost: 145.5502389116099 \n",
    "Average Planning Time: 0.13553253043781627 \n",
    "Average Inference Time: 0.0014663531563498756 \n",
    "Average Number of Node Expansions: 3882.32 \n",
    "Average Success Rate: 1.0"
   ]
  }
 ],
 "metadata": {
  "kernelspec": {
   "display_name": "neuraloperator",
   "language": "python",
   "name": "python3"
  },
  "language_info": {
   "codemirror_mode": {
    "name": "ipython",
    "version": 3
   },
   "file_extension": ".py",
   "mimetype": "text/x-python",
   "name": "python",
   "nbconvert_exporter": "python",
   "pygments_lexer": "ipython3",
   "version": "3.8.18"
  }
 },
 "nbformat": 4,
 "nbformat_minor": 2
}
