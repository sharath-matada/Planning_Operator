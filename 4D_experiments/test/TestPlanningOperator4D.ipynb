{
 "cells": [
  {
   "cell_type": "code",
   "execution_count": 4,
   "metadata": {},
   "outputs": [],
   "source": [
    "# import necessary packages\n",
    "import torch\n",
    "import numpy as np\n",
    "import torch.nn as nn\n",
    "import torch.nn.functional as F\n",
    "import torchvision.transforms as tvt\n",
    "\n",
    "import matplotlib.pyplot as plt\n",
    "\n",
    "import os\n",
    "os.chdir('..')\n",
    "\n",
    "from matplotlib.colors import LinearSegmentedColormap\n",
    "\n",
    "from functools import reduce\n",
    "from functools import partial\n",
    "\n",
    "#   # Create a custom colormap that is inverted\n",
    "cmap = plt.cm.viridis  # Choose the colormap you want to invert\n",
    "cmap_inverted = LinearSegmentedColormap.from_list(\"inverted_viridis\", cmap(np.linspace(1, 0, 256)))\n",
    "\n",
    "\n",
    "\n",
    "from timeit import default_timer\n",
    "import scipy.io\n",
    "import os\n",
    "import sys\n",
    "from itertools import chain\n",
    "import time\n",
    "\n",
    "\n",
    "\n",
    "from models.TrainPlanningOperator4D import PlanningOperator4D, smooth_chi\n",
    "from models.utilities import *"
   ]
  },
  {
   "cell_type": "code",
   "execution_count": 7,
   "metadata": {},
   "outputs": [
    {
     "name": "stdout",
     "output_type": "stream",
     "text": [
      "Training Planning Operator\n"
     ]
    }
   ],
   "source": [
    "print(\"Training Planning Operator\")\n",
    "os.chdir(\"dataset/manipulator\")\n",
    "\n",
    "lrs = [1e-2]\n",
    "gammas = [0.5]\n",
    "wds = [3e-6]\n",
    "smooth_coefs = [5.]\n",
    "smooth_coef = smooth_coefs[0]\n",
    "# experiments to be replicated with different seeds\n",
    "seeds = [5, 2000, 14000, 16000, 100000]\n",
    "seeds = [seeds[0]]\n",
    "\n",
    "################################################################\n",
    "#                       configs\n",
    "################################################################\n",
    "Ntotal = 40*10 + 10*10\n",
    "ntrain = 40*10\n",
    "ntest =  10*10\n",
    "\n",
    "batch_size = 1\n",
    "\n",
    "epochs = 501\n",
    "scheduler_step = 100\n",
    "tol_early_stop = 500\n",
    "\n",
    "\n",
    "################################################################\n",
    "# load data and data normalization\n",
    "################################################################\n",
    "t1 = default_timer()\n",
    "\n",
    "sub = 1\n",
    "Sx = int(((17 - 1) / sub) + 1)\n",
    "Sy = Sx\n",
    "Sz = int(((17 - 1) / sub) + 1)\n",
    "St = Sz\n",
    "\n",
    "mask = np.load('mask.npy')[:Ntotal,:,:,:]\n",
    "mask = torch.tensor(mask, dtype=torch.float)\n",
    "dist_in = np.load('dist_in.npy')[:Ntotal,:,:,:]\n",
    "dist_in = torch.tensor(dist_in[:Ntotal, :, :], dtype=torch.float)\n",
    "input = smooth_chi(mask, dist_in, smooth_coef)\n",
    "output = np.load('output.npy')[:Ntotal,:,:,:]\n",
    "output = torch.tensor(output, dtype=torch.float)\n",
    "\n",
    "goals = np.load('goals.npy')[:Ntotal,:]\n",
    "goals = torch.tensor(goals, dtype=torch.float)\n",
    "\n",
    "\n",
    "mask_train = mask[:Ntotal][:ntrain, ::sub, ::sub, ::sub, ::sub][:, :Sx, :Sy, :Sz, :St]\n",
    "mask_test = mask[:Ntotal][-ntest:, ::sub, ::sub, ::sub, ::sub][:, :Sx, :Sy, :Sz, :St]\n",
    "\n",
    "mask_train = mask_train.reshape(ntrain, Sx, Sy, Sz,St, 1)\n",
    "mask_test = mask_test.reshape(ntest, Sx, Sy, Sz,St, 1)\n",
    "\n",
    "chi_train = input[:Ntotal][:ntrain, ::sub, ::sub, ::sub, ::sub][:, :Sx, :Sy, :Sz, :St]\n",
    "chi_test = input[:Ntotal][-ntest:, ::sub, ::sub, ::sub, ::sub][:, :Sx, :Sy, :Sz, :St]\n",
    "\n",
    "chi_train = chi_train.reshape(ntrain, Sx, Sy, Sz, St, 1)\n",
    "chi_test = chi_test.reshape(ntest, Sx, Sy, Sz, St, 1)\n",
    "\n",
    "y_train = output[:Ntotal][:ntrain, ::sub, ::sub, ::sub, ::sub][:, :Sx, :Sy, :Sz, :St]\n",
    "y_test = output[:Ntotal][-ntest:, ::sub, ::sub, ::sub, ::sub][:, :Sx, :Sy, :Sz, :St]\n",
    "\n",
    "y_train = y_train.reshape(ntrain, Sx, Sy, Sz, St, 1)\n",
    "y_test = y_test.reshape(ntest, Sx, Sy, Sz, St, 1)\n",
    "\n",
    "goals_train = goals[:ntrain]\n",
    "goals_test = goals[-ntest:]\n",
    "\n",
    "goals_train = goals_train.reshape(ntrain, 4, 1)\n",
    "goals_test = goals_test.reshape(ntest, 4, 1)\n",
    "\n",
    "\n",
    "train_loader = torch.utils.data.DataLoader(torch.utils.data.TensorDataset(mask_train, chi_train, y_train, goals_train),\n",
    "                                            batch_size=batch_size,\n",
    "                                            shuffle=True)\n",
    "test_loader = torch.utils.data.DataLoader(torch.utils.data.TensorDataset(mask_test, chi_test, y_test, goals_test),\n",
    "                                            batch_size=batch_size,\n",
    "                                            shuffle=False)"
   ]
  },
  {
   "cell_type": "code",
   "execution_count": 9,
   "metadata": {},
   "outputs": [
    {
     "data": {
      "text/plain": [
       "PlanningOperator4D(\n",
       "  (fc0): Linear(in_features=4, out_features=7, bias=True)\n",
       "  (conv0): SpectralConv4d()\n",
       "  (w0): Conv4d(\n",
       "    (conv3d_layers): ModuleList(\n",
       "      (0): Conv3d(7, 7, kernel_size=(1, 1, 1), stride=(1, 1, 1), bias=False)\n",
       "    )\n",
       "  )\n",
       "  (fc1): DeepNormMetric(\n",
       "    (Us): ModuleList(\n",
       "      (0-1): 2 x Linear(in_features=7, out_features=128, bias=False)\n",
       "    )\n",
       "    (Ws): ModuleList(\n",
       "      (0): ConstrainedLinear(in_features=128, out_features=128, bias=False)\n",
       "    )\n",
       "    (activation): MaxReLUPairwiseActivation(\n",
       "      (avg_pool): AvgPool1d(kernel_size=(2,), stride=(2,), padding=(0,))\n",
       "    )\n",
       "    (output_activation): ConcaveActivation()\n",
       "    (reduce_metric): ReduceMetric()\n",
       "  )\n",
       ")"
      ]
     },
     "execution_count": 9,
     "metadata": {},
     "output_type": "execute_result"
    }
   ],
   "source": [
    "modes = 3\n",
    "width = 7\n",
    "nlayers = 1\n",
    "\n",
    "model = PlanningOperator4D(modes, modes, modes, modes, width, nlayers)\n",
    "model.load_state_dict(torch.load(\"planningoperator_manipulator17_m3_w8_l1_b10_lr3e-3_10g_20nov/n400_lr1.000000e-02_gamma6.000000e-01_wd3.000000e-06_seed5/model4d.ckpt\"))\n",
    "model.eval()\n",
    "device = torch.device('cuda' if torch.cuda.is_available() else 'cpu')\n",
    "model.to(device)"
   ]
  },
  {
   "cell_type": "code",
   "execution_count": 18,
   "metadata": {},
   "outputs": [],
   "source": [
    "# Primary movements in 4D: forward, backward, left, right, up, down, and movements in the 4th dimension\n",
    "primary_moves_4d = [\n",
    "    [-1., 0., 0., 0.],  # left\n",
    "    [1., 0., 0., 0.],   # right\n",
    "    [0., 1., 0., 0.],   # forward\n",
    "    [0., -1., 0., 0.],  # backward\n",
    "    [0., 0., 1., 0.],   # up\n",
    "    [0., 0., -1., 0.],  # down\n",
    "    [0., 0., 0., 1.],   # positive w\n",
    "    [0., 0., 0., -1.]   # negative w\n",
    "]\n",
    "\n",
    "# Diagonal movements in 4D\n",
    "diagonal_moves_4d = [\n",
    "    [-1., 1., 0., 0.],  # left-forward\n",
    "    [-1., -1., 0., 0.], # left-backward\n",
    "    [1., 1., 0., 0.],   # right-forward\n",
    "    [1., -1., 0., 0.],  # right-backward\n",
    "    [-1., 0., 1., 0.],  # left-up\n",
    "    [-1., 0., -1., 0.], # left-down\n",
    "    [1., 0., 1., 0.],   # right-up\n",
    "    [1., 0., -1., 0.],  # right-down\n",
    "    [0., 1., 1., 0.],   # forward-up\n",
    "    [0., 1., -1., 0.],  # forward-down\n",
    "    [0., -1., 1., 0.],  # backward-up\n",
    "    [0., -1., -1., 0.], # backward-down\n",
    "    [-1., 1., 1., 0.],  # left-forward-up\n",
    "    [-1., 1., -1., 0.], # left-forward-down\n",
    "    [-1., -1., 1., 0.], # left-backward-up\n",
    "    [-1., -1., -1., 0.],# left-backward-down\n",
    "    [1., 1., 1., 0.],   # right-forward-up\n",
    "    [1., 1., -1., 0.],  # right-forward-down\n",
    "    [1., -1., 1., 0.],  # right-backward-up\n",
    "    [1., -1., -1., 0.], # right-backward-down\n",
    "    # Additional diagonal movements involving the 4th dimension\n",
    "    [-1., 0., 0., 1.],  # left-positive w\n",
    "    [-1., 0., 0., -1.], # left-negative w\n",
    "    [1., 0., 0., 1.],   # right-positive w\n",
    "    [1., 0., 0., -1.],  # right-negative w\n",
    "    [0., 1., 0., 1.],   # forward-positive w\n",
    "    [0., 1., 0., -1.],  # forward-negative w\n",
    "    [0., -1., 0., 1.],  # backward-positive w\n",
    "    [0., -1., 0., -1.], # backward-negative w\n",
    "    [0., 0., 1., 1.],   # up-positive w\n",
    "    [0., 0., 1., -1.],  # up-negative w\n",
    "    [0., 0., -1., 1.],  # down-positive w\n",
    "    [0., 0., -1., -1.], # down-negative w\n",
    "]\n",
    "\n",
    "# Combine primary and diagonal moves\n",
    "action_vecs_4d = np.asarray(primary_moves_4d + diagonal_moves_4d)\n",
    "\n",
    "def perform_gradient_descent(value_function, start_point, goal_point, plotsuccess=False, plotfails=False, learning_rate=1, num_steps=1000):\n",
    "    path_length = 0\n",
    "    path_points = [start_point.copy().astype(float)]\n",
    "    visited_points = set()\n",
    "    current_point = start_point.copy().astype(float)\n",
    "\n",
    "    for step in range(num_steps):\n",
    "        best_gradient = np.inf\n",
    "        best_action = None\n",
    "\n",
    "        for action in action_vecs_4d:\n",
    "            new_point = current_point + learning_rate * action\n",
    "            new_point_indices = np.round(new_point).astype(int)\n",
    "            x_index, y_index, z_index, w_index = new_point_indices\n",
    "\n",
    "            if (0 <= x_index < value_function.shape[0] and \n",
    "                0 <= y_index < value_function.shape[1] and \n",
    "                0 <= z_index < value_function.shape[2] and\n",
    "                0 <= w_index < value_function.shape[3] and\n",
    "                (x_index, y_index, z_index, w_index) not in visited_points):\n",
    "                gradient = value_function[x_index, y_index, z_index, w_index]\n",
    "                if gradient < best_gradient:\n",
    "                    best_gradient = gradient\n",
    "                    best_action = action\n",
    "\n",
    "        if best_gradient > 100:\n",
    "            if plotfails:\n",
    "                print(\"Failed Path:\")\n",
    "            return False, 0, path_points  \n",
    "\n",
    "        if best_action is not None:\n",
    "            current_point += learning_rate * best_action\n",
    "            path_length += np.linalg.norm(learning_rate * best_action)\n",
    "            path_points.append(current_point.copy())\n",
    "            visited_points.add(tuple(np.round(current_point).astype(int)))\n",
    "            if np.array_equal(np.round(current_point).astype(int), np.round(goal_point).astype(int)):\n",
    "                if plotsuccess:\n",
    "                    print(\"Successful Path:\")\n",
    "                    visited_points.add(goal_point)\n",
    "                return True, path_length, path_points  # Success\n",
    "        else:\n",
    "            if plotfails:\n",
    "                print(\"Failed Path:\")\n",
    "            return False, 0, path_points  # No valid action found\n",
    "    if plotfails:\n",
    "        print(\"Failed Path:\")\n",
    "    return False, 0 ,path_points "
   ]
  },
  {
   "cell_type": "code",
   "execution_count": 30,
   "metadata": {},
   "outputs": [
    {
     "data": {
      "text/plain": [
       "torch.Size([400, 17, 17, 17, 17, 1])"
      ]
     },
     "execution_count": 30,
     "metadata": {},
     "output_type": "execute_result"
    }
   ],
   "source": [
    "mask_train.shape"
   ]
  },
  {
   "cell_type": "code",
   "execution_count": 67,
   "metadata": {},
   "outputs": [
    {
     "name": "stdout",
     "output_type": "stream",
     "text": [
      "Planning Operator\n",
      "Path Lenght 5.146264369941973 \n",
      "Success: True\n"
     ]
    }
   ],
   "source": [
    "# Compare against classical Planners\n",
    "nosuceesscount = 0\n",
    "notime = 0\n",
    "nopath = 0\n",
    "\n",
    "with torch.no_grad():\n",
    "    for batch_id, (mask, chi, ground_truth, gg) in enumerate(test_loader):\n",
    "        mask, chi, ground_truth, gg = mask.to(device)[0,:,:,:,:,0].reshape(1,Sx,Sy,Sz,St,1), chi.to(device)[0,:,:,:,:,0].reshape(1,Sx,Sy,Sz,St,1), ground_truth.to(device)[0,:,:,:,:,0].reshape(1,Sx,Sy,Sz,St,1), gg.to(device)[0,:,0].reshape(1,4,1)\n",
    "        goal_point = np.array([13,8,8,10])\n",
    "        gg = torch.tensor(goal_point, device=device).reshape(1, 4, 1)\n",
    "        start_point = np.array([8,8,8,7])\n",
    "\n",
    "        if batch_id==100:\n",
    "            break    \n",
    "\n",
    "        # Neural Operator Planning\n",
    "        # t1 = tic()\n",
    "        predicted_output = model(chi, gg)\n",
    "        predicted_output = torch.where(mask == 0, torch.tensor(float('inf')), predicted_output)\n",
    "        value_function = predicted_output[0, :, :, :, :, 0].cpu().detach().numpy()\n",
    "        success_po, pathlength_po, path  = perform_gradient_descent(value_function,start_point,goal_point,learning_rate=1)\n",
    "        # dt = toc(t1)\n",
    "\n",
    "        # if(success_po):\n",
    "        #     nosuceesscount+=1\n",
    "        #     nopath+=pathlength_po\n",
    "\n",
    "        # value_function_fmm = ground_truth\n",
    "        # value_function_fmm = torch.where(mask == 0, torch.tensor(float('inf')), value_function_fmm)\n",
    "        # value_function_fmm = value_function_fmm[0, :, :, :, :, 0].cpu().detach().numpy()\n",
    "        # success_fmm, pathlength_fmm, _  = perform_gradient_descent(value_function_fmm,start_point,goal_point,learning_rate=1)\n",
    "        # dt = toc(t1)\n",
    "\n",
    "        # if(success_fmm):\n",
    "        #     fmmsuceesscount+=1\n",
    "        #     fmmpath+=pathlength_fmm     \n",
    "\n",
    "\n",
    "  \n",
    "\n",
    "\n",
    "print(\"Planning Operator\\nPath Lenght\",pathlength_po,\n",
    "      \"\\nSuccess:\",success_po)\n"
   ]
  },
  {
   "cell_type": "code",
   "execution_count": 68,
   "metadata": {},
   "outputs": [
    {
     "data": {
      "text/plain": [
       "[array([5., 9., 9., 9.]),\n",
       " array([4., 8., 8., 9.]),\n",
       " array([3., 8., 8., 8.]),\n",
       " array([2., 8., 8., 8.]),\n",
       " array([1., 8., 8., 8.])]"
      ]
     },
     "execution_count": 68,
     "metadata": {},
     "output_type": "execute_result"
    }
   ],
   "source": [
    "path"
   ]
  },
  {
   "cell_type": "code",
   "execution_count": 69,
   "metadata": {},
   "outputs": [
    {
     "data": {
      "text/plain": [
       "<matplotlib.image.AxesImage at 0x700ca117d3d0>"
      ]
     },
     "execution_count": 69,
     "metadata": {},
     "output_type": "execute_result"
    },
    {
     "data": {
      "image/png": "[encoded data removed]",
      "text/plain": [
       "<Figure size 640x480 with 1 Axes>"
      ]
     },
     "metadata": {},
     "output_type": "display_data"
    }
   ],
   "source": [
    "plt.imshow(value_function[:,:,8,8])"
   ]
  }
 ],
 "metadata": {
  "kernelspec": {
   "display_name": "neuraloperator",
   "language": "python",
   "name": "python3"
  },
  "language_info": {
   "codemirror_mode": {
    "name": "ipython",
    "version": 3
   },
   "file_extension": ".py",
   "mimetype": "text/x-python",
   "name": "python",
   "nbconvert_exporter": "python",
   "pygments_lexer": "ipython3",
   "version": "3.8.18"
  }
 },
 "nbformat": 4,
 "nbformat_minor": 2
}
