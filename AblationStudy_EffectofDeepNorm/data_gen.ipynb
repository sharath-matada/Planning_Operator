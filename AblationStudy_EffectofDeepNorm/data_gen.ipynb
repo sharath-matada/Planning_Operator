{
 "cells": [
  {
   "cell_type": "code",
   "execution_count": 1,
   "metadata": {},
   "outputs": [],
   "source": [
    "import sys\n",
    "\n",
    "import numpy as np\n",
    "\n",
    "\n",
    "import argparse\n",
    "\n",
    "import os\n",
    "\n",
    "current_script_path = os.getcwd()\n",
    "main_folder_path = os.path.dirname(current_script_path)\n",
    "\n",
    "if main_folder_path not in sys.path:\n",
    "    sys.path.append(main_folder_path)\n",
    "\n",
    "from tqdm import tqdm \n",
    "\n",
    "import numpy as np\n",
    "import matplotlib.pyplot as plt\n",
    "import pykonal\n",
    "import random\n",
    "\n",
    "from scipy.io import loadmat\n",
    "\n",
    "\n"
   ]
  },
  {
   "cell_type": "code",
   "execution_count": 2,
   "metadata": {},
   "outputs": [],
   "source": [
    "maps = np.load(\"mazes_15_2_3000.npz\")\n",
    "maps = 1 - maps[\"maps\"]\n"
   ]
  },
  {
   "cell_type": "code",
   "execution_count": 3,
   "metadata": {},
   "outputs": [
    {
     "name": "stderr",
     "output_type": "stream",
     "text": [
      "  0%|          | 0/3000 [00:00<?, ?it/s]"
     ]
    },
    {
     "name": "stderr",
     "output_type": "stream",
     "text": [
      "100%|██████████| 3000/3000 [00:07<00:00, 379.26it/s]\n"
     ]
    }
   ],
   "source": [
    "# Number of trials\n",
    "# train_trial = 5054\n",
    "\n",
    "train_trial = 2000\n",
    "test_trial = 1000\n",
    "\n",
    "num_trials = train_trial+test_trial\n",
    "\n",
    "goal_trials = 20\n",
    "env_size = 15\n",
    "count = 0\n",
    "\n",
    "x_values_array = np.zeros((env_size * env_size * 1, num_trials * goal_trials))\n",
    "y_values_array = np.zeros((env_size * env_size * 1, num_trials * goal_trials))\n",
    "velocity_matrices_array = np.ones((num_trials * goal_trials, env_size, env_size))\n",
    "travel_time_values_array = np.zeros((num_trials * goal_trials, env_size, env_size))\n",
    "goals = np.zeros((num_trials * goal_trials, 2))\n",
    "\n",
    "for trial in tqdm(range(num_trials)):\n",
    "    \n",
    "    im_np = maps[trial,:,:]\n",
    "    original_maze = im_np\n",
    "    condition1 = original_maze == 1\n",
    "    row_indices, col_indices = np.indices(original_maze.shape)\n",
    "    condition2 = (row_indices < env_size) & (col_indices < env_size)\n",
    "    combined_condition = condition1 & condition2\n",
    "\n",
    "    for goal_trial in range(goal_trials):\n",
    "        passable_indices = np.argwhere(combined_condition)\n",
    "        high_values_mask = None\n",
    "        if passable_indices.size > 0:\n",
    "            if(trial * goal_trials + goal_trial!=count):\n",
    "                break\n",
    "            while np.all(travel_time_values_array[trial * goal_trials + goal_trial, :, :] == 0):\n",
    "                velocity_matrix = np.array(original_maze)\n",
    "                goal_index = random.choice(passable_indices)\n",
    "                goal = goal_index[0], goal_index[1]\n",
    "                # goal = 7,7\n",
    "                # print(goal)\n",
    "                # Set up the Eikonal solver\n",
    "                solver = pykonal.EikonalSolver(coord_sys=\"cartesian\")\n",
    "                solver.velocity.min_coords = 0, 0, 0\n",
    "                solver.velocity.node_intervals = 1, 1, 1\n",
    "                solver.velocity.npts = env_size, env_size, 1\n",
    "                solver.velocity.values = velocity_matrix.reshape(env_size, env_size, 1)\n",
    "                src_idx = goal[0], goal[1], 0\n",
    "                solver.traveltime.values[src_idx] = 0\n",
    "                solver.unknown[src_idx] = False\n",
    "                solver.trial.push(*src_idx)\n",
    "                solver.solve()\n",
    "                velocity_matrices_array[trial * goal_trials + goal_trial, :, :] = velocity_matrix\n",
    "                goals[trial * goal_trials + goal_trial,:] = goal\n",
    "                travel_time_values_array[trial * goal_trials + goal_trial, :, :] = solver.traveltime.values[:, :, 0]\n",
    "                high_values_mask = solver.traveltime.values[:, :, 0] > 1000\n",
    "                input_mask = (velocity_matrix == 0)\n",
    "                travel_time_values_array[trial * goal_trials + goal_trial, high_values_mask] = 0\n",
    "            if(high_values_mask!=input_mask).any():\n",
    "                velocity_matrices_array[trial * goal_trials + goal_trial, high_values_mask] = 0\n",
    "\n",
    "            if np.any(travel_time_values_array[trial * goal_trials + goal_trial, :, :] > 1000):\n",
    "                print(\"Improper Data Created\")\n",
    "                break\n",
    "            if np.all(travel_time_values_array[trial * goal_trials + goal_trial, :, :] == 0):\n",
    "                print(\"Improper Data Created\")\n",
    "                break\n",
    "        else:\n",
    "            print(\"Improper Data Created\")\n",
    "            break\n",
    "\n",
    "        count+=1 \n",
    "\n"
   ]
  },
  {
   "cell_type": "code",
   "execution_count": 4,
   "metadata": {},
   "outputs": [],
   "source": [
    "np.save(\"multgoal_dataset/goals.npy\",goals)\n",
    "\n",
    "# Save velocity_matrices_array as \"mask.npy\"\n",
    "np.save(\"multgoal_dataset/mask.npy\", velocity_matrices_array)\n",
    "\n",
    "# Save travel_time_values_array as \"output.npy\"\n",
    "np.save(\"multgoal_dataset/output.npy\", travel_time_values_array)"
   ]
  },
  {
   "cell_type": "code",
   "execution_count": 5,
   "metadata": {},
   "outputs": [],
   "source": [
    "def calculate_signed_distance(velocity_matrix):\n",
    "    # Find the indices of obstacles\n",
    "    obstacle_indices = np.where(velocity_matrix == 0)\n",
    "\n",
    "    # Check if there are no obstacles\n",
    "    if obstacle_indices[0].size == 0:\n",
    "        # Handle the case when there are no obstacles\n",
    "        return np.zeros_like(velocity_matrix)\n",
    "\n",
    "    # Create a meshgrid of indices\n",
    "    i, j = np.meshgrid(np.arange(velocity_matrix.shape[1]), np.arange(velocity_matrix.shape[0]), indexing='ij')  # Note the change in the order of indices\n",
    "    \n",
    "    # Calculate distances to obstacles using vectorized operations\n",
    "    distances = np.sqrt((obstacle_indices[0][:, None, None] - i[None, :, :])**2 + (obstacle_indices[1][:, None, None] - j[None, :, :])**2)\n",
    "\n",
    "    # Find the minimum distance for each point\n",
    "    signed_distance = np.min(distances, axis=0)\n",
    "    return signed_distance\n"
   ]
  },
  {
   "cell_type": "code",
   "execution_count": 6,
   "metadata": {},
   "outputs": [
    {
     "name": "stderr",
     "output_type": "stream",
     "text": [
      "  0%|          | 0/60000 [00:00<?, ?it/s]"
     ]
    },
    {
     "name": "stderr",
     "output_type": "stream",
     "text": [
      "100%|██████████| 60000/60000 [00:05<00:00, 11144.34it/s]\n"
     ]
    }
   ],
   "source": [
    "\n",
    "signed_distance_array = np.zeros((num_trials*goal_trials, env_size, env_size))\n",
    "\n",
    "for i in tqdm(range(num_trials*goal_trials)):\n",
    "    signed_distance_array[i,:,:] = calculate_signed_distance(velocity_matrices_array[i,:,:].reshape(env_size,env_size))\n",
    "\n",
    "\n",
    "# Save signed_distance_array as \"dist_in.npy\"\n",
    "# np.save(\"test_dist_in.npy\",signed_distance_array)\n",
    "np.save(\"multgoal_dataset/dist_in.npy\", signed_distance_array)"
   ]
  }
 ],
 "metadata": {
  "kernelspec": {
   "display_name": "pykonal",
   "language": "python",
   "name": "python3"
  },
  "language_info": {
   "codemirror_mode": {
    "name": "ipython",
    "version": 3
   },
   "file_extension": ".py",
   "mimetype": "text/x-python",
   "name": "python",
   "nbconvert_exporter": "python",
   "pygments_lexer": "ipython3",
   "version": "3.8.18"
  },
  "orig_nbformat": 4
 },
 "nbformat": 4,
 "nbformat_minor": 2
}
