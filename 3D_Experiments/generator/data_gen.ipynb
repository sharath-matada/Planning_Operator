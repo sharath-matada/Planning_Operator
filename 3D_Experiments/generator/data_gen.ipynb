{
 "cells": [
  {
   "cell_type": "code",
   "execution_count": 1,
   "metadata": {},
   "outputs": [],
   "source": [
    "import numpy as np\n",
    "import matplotlib.pyplot as plt\n",
    "\n",
    "from fmm_data_generator_3d import create_dataset\n",
    "\n",
    "import os\n",
    "import sys\n",
    "\n",
    "os.chdir('..')\n",
    "\n",
    "\n"
   ]
  },
  {
   "cell_type": "code",
   "execution_count": 2,
   "metadata": {},
   "outputs": [
    {
     "name": "stderr",
     "output_type": "stream",
     "text": [
      "100%|██████████| 30/30 [02:27<00:00,  4.92s/it]\n",
      "100%|██████████| 5/5 [00:23<00:00,  4.76s/it]\n"
     ]
    }
   ],
   "source": [
    "maps = np.load(\"dataset/rawgibsonenv/occupancymap.npy\", allow_pickle=True)\n",
    "sdf = np.load(\"dataset/rawgibsonenv/sdf.npy\", allow_pickle=True)\n",
    "\n",
    "\n",
    "maps = np.array(maps, dtype=object)\n",
    "sdf = np.array(sdf, dtype=object)\n",
    "\n",
    "train_trial = 30\n",
    "test_trial = 5\n",
    "\n",
    "env_size = 128\n",
    "\n",
    "travel_time_values_array_train, signed_distance_array_train, velocity_matrices_array_train, goals_train = create_dataset(maps=maps[:train_trial,:,:,:], sdf=sdf[:train_trial,:,:,:],num_trials=train_trial, goal_trials=5, env_size=env_size,erosion_trials = 1)\n",
    "travel_time_values_array_test,  signed_distance_array_test,  velocity_matrices_array_test,  goals_test =  create_dataset(maps=maps[train_trial:,:,:,:], sdf=sdf[train_trial:,:,:,:], num_trials=test_trial,  goal_trials=5, env_size=env_size,erosion_trials = 1)"
   ]
  },
  {
   "cell_type": "code",
   "execution_count": 3,
   "metadata": {},
   "outputs": [],
   "source": [
    "np.save(\"dataset/goals.npy\",np.concatenate((goals_train,goals_test), axis=0))\n",
    "\n",
    "# Save velocity_matrices_array as \"mask.npy\"\n",
    "np.save(\"dataset/mask.npy\", np.concatenate((velocity_matrices_array_train,velocity_matrices_array_test), axis=0))\n",
    "\n",
    "# Save travel_time_values_array as \"output.npy\"\n",
    "np.save(\"dataset/output.npy\", np.concatenate((travel_time_values_array_train,travel_time_values_array_test), axis=0))\n",
    "\n",
    "# Save signed_distance_array as \"dist_in.npy\"\n",
    "np.save(\"dataset/dist_in.npy\", np.concatenate((signed_distance_array_train,signed_distance_array_test),axis=0))"
   ]
  }
 ],
 "metadata": {
  "kernelspec": {
   "display_name": "pykonal",
   "language": "python",
   "name": "python3"
  },
  "language_info": {
   "codemirror_mode": {
    "name": "ipython",
    "version": 3
   },
   "file_extension": ".py",
   "mimetype": "text/x-python",
   "name": "python",
   "nbconvert_exporter": "python",
   "pygments_lexer": "ipython3",
   "version": "3.11.9"
  },
  "orig_nbformat": 4
 },
 "nbformat": 4,
 "nbformat_minor": 2
}
