{
 "cells": [
  {
   "cell_type": "code",
   "execution_count": 1,
   "metadata": {},
   "outputs": [],
   "source": [
    "import numpy as np\n",
    "import matplotlib.pyplot as plt\n",
    "import scipy.ndimage\n",
    "\n",
    "from fmm_data_generator_3d import create_dataset\n",
    "\n",
    "import os\n",
    "import sys\n",
    "\n",
    "os.chdir('../dataset')\n",
    "\n"
   ]
  },
  {
   "cell_type": "code",
   "execution_count": 2,
   "metadata": {},
   "outputs": [],
   "source": [
    "# Load the 3D occupancy maps from a file\n",
    "maps = np.load(\"occupancy_map.npy\")\n",
    "\n"
   ]
  },
  {
   "cell_type": "code",
   "execution_count": 3,
   "metadata": {},
   "outputs": [
    {
     "name": "stderr",
     "output_type": "stream",
     "text": [
      "  0%|          | 0/32 [00:00<?, ?it/s]"
     ]
    },
    {
     "name": "stderr",
     "output_type": "stream",
     "text": [
      "100%|██████████| 32/32 [00:13<00:00,  2.33it/s]\n",
      "100%|██████████| 8/8 [00:04<00:00,  1.80it/s]\n"
     ]
    }
   ],
   "source": [
    "train_trial = 32\n",
    "test_trial = 8\n",
    "goal_trials = 10\n",
    "\n",
    "env_size = [80,80,25]\n",
    "\n",
    "travel_time_values_array_train, signed_distance_array_train, velocity_matrices_array_train, goals_train = create_dataset(maps=maps[:train_trial,:,:,:], num_trials=train_trial, goal_trials=goal_trials, env_size=env_size,erosion_trials = 1)\n",
    "travel_time_values_array_test,  signed_distance_array_test,  velocity_matrices_array_test,  goals_test =  create_dataset(maps=maps[train_trial:,:,:,:], num_trials=test_trial,  goal_trials=goal_trials, env_size=env_size,erosion_trials = 1)"
   ]
  },
  {
   "cell_type": "code",
   "execution_count": 4,
   "metadata": {},
   "outputs": [],
   "source": [
    "np.save(\"/mountvol/dataset-80-igib/goals.npy\",np.concatenate((goals_train,goals_test), axis=0))\n",
    "\n",
    "# Save velocity_matrices_array as \"mask.npy\"\n",
    "np.save(\"/mountvol/dataset-80-igib/mask.npy\", np.concatenate((velocity_matrices_array_train,velocity_matrices_array_test), axis=0))\n",
    "\n",
    "# Save travel_time_values_array as \"output.npy\"\n",
    "np.save(\"/mountvol/dataset-80-igib/output.npy\", np.concatenate((travel_time_values_array_train,travel_time_values_array_test), axis=0))\n",
    "\n",
    "# Save signed_distance_array as \"dist_in.npy\"\n",
    "np.save(\"/mountvol/dataset-80-igib/dist_in.npy\", np.concatenate((signed_distance_array_train,signed_distance_array_test),axis=0))"
   ]
  },
  {
   "cell_type": "code",
   "execution_count": 50,
   "metadata": {},
   "outputs": [],
   "source": [
    "sdf = np.load('/mountvol/dataset-80-igib/dist_in.npy')\n",
    "mask = np.load('/mountvol/dataset-80-igib/mask.npy')\n",
    "output = np.load('/mountvol/dataset-80-igib/output.npy')"
   ]
  }
 ],
 "metadata": {
  "kernelspec": {
   "display_name": "pykonal",
   "language": "python",
   "name": "python3"
  },
  "language_info": {
   "codemirror_mode": {
    "name": "ipython",
    "version": 3
   },
   "file_extension": ".py",
   "mimetype": "text/x-python",
   "name": "python",
   "nbconvert_exporter": "python",
   "pygments_lexer": "ipython3",
   "version": "3.11.9"
  },
  "orig_nbformat": 4
 },
 "nbformat": 4,
 "nbformat_minor": 2
}
