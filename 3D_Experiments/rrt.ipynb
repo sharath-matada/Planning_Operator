{
 "cells": [
  {
   "cell_type": "code",
   "execution_count": 12,
   "metadata": {},
   "outputs": [],
   "source": [
    "import ompl.base as ob\n",
    "import ompl.geometric as og\n",
    "import ompl.util as ou\n",
    "import numpy as np"
   ]
  },
  {
   "cell_type": "code",
   "execution_count": 13,
   "metadata": {},
   "outputs": [],
   "source": [
    "mask = np.load('./3d_dataset_30x30x30/mask.npy')\n",
    "goals = np.load('./3d_dataset_30x30x30/goals.npy')"
   ]
  },
  {
   "cell_type": "code",
   "execution_count": 14,
   "metadata": {},
   "outputs": [],
   "source": [
    "Ntotal = 1000*5+200*5\n",
    "ntrain = 1000*5\n",
    "ntest = Ntotal-ntrain\n",
    "\n",
    "sub = 1\n",
    "Sx = int(((30 - 1) / sub) + 1)\n",
    "Sy = Sx\n",
    "Sz = Sx\n",
    "\n",
    "mask_test = mask[:Ntotal][-ntest:, ::sub, ::sub, ::sub][:, :Sx, :Sy, :Sz]\n",
    "mask_test = mask_test.reshape(ntest, Sx, Sy, Sz, 1)\n",
    "\n",
    "\n",
    "goals_test = goals[-ntest:]\n",
    "goals_test = goals_test.reshape(ntest, 3, 1)\n",
    "\n"
   ]
  },
  {
   "cell_type": "code",
   "execution_count": 56,
   "metadata": {},
   "outputs": [
    {
     "name": "stdout",
     "output_type": "stream",
     "text": [
      "41.90233701843653\n"
     ]
    }
   ],
   "source": [
    "average_path_cost = 0\n",
    "success_count = 0\n",
    "\n",
    "for map in range(1000):\n",
    "    environment = mask_test[map,:,:,:,0].squeeze()\n",
    "    space = ob.RealVectorStateSpace(3)\n",
    "    bounds = ob.RealVectorBounds(3)\n",
    "    bounds.setLow(0)\n",
    "    bounds.setHigh(0, environment.shape[0] - 1)\n",
    "    bounds.setHigh(1, environment.shape[1] - 1)\n",
    "    bounds.setHigh(2, environment.shape[2] - 1)\n",
    "    space.setBounds(bounds)\n",
    "\n",
    "    start = ob.State(space)\n",
    "    start[0], start[1], start[2] = 0, 0, 0\n",
    "\n",
    "    goal = ob.State(space)\n",
    "    goal[0], goal[1], goal[2] = goals_test[map,0,0], goals_test[map,1,0], goals_test[map,2,0]\n",
    "\n",
    "    def isStateValid(state):\n",
    "        x, y, z = int(state[0]), int(state[1]), int(state[2])\n",
    "        if 0 <= x < environment.shape[0] and 0 <= y < environment.shape[1] and 0 <= z < environment.shape[2]:\n",
    "            return environment[x, y, z] == 1\n",
    "        return False\n",
    "\n",
    "    si = ob.SpaceInformation(space)\n",
    "    si.setStateValidityChecker(ob.StateValidityCheckerFn(isStateValid))\n",
    "\n",
    "    pdef = ob.ProblemDefinition(si)\n",
    "    pdef.setStartAndGoalStates(start, goal)\n",
    "\n",
    "    planner = og.RRT(si)\n",
    "    planner.setProblemDefinition(pdef)\n",
    "\n",
    "    # Set the maximum edge length (range)\n",
    "    max_edge_length = 1.0  # Adjust this value as needed\n",
    "    planner.setRange(max_edge_length)\n",
    "\n",
    "    planner.setup()\n",
    "    solve_time = 0.010  \n",
    "    solved = planner.solve(solve_time)\n",
    "\n",
    "    if solved:\n",
    "        success_count += 1\n",
    "        path = pdef.getSolutionPath()\n",
    "        path_cost = path.cost(ob.PathLengthOptimizationObjective(si))\n",
    "        average_path_cost += path_cost.value()\n",
    "\n",
    "print(average_path_cost / success_count)\n"
   ]
  }
 ],
 "metadata": {
  "kernelspec": {
   "display_name": "Python 3",
   "language": "python",
   "name": "python3"
  },
  "language_info": {
   "codemirror_mode": {
    "name": "ipython",
    "version": 3
   },
   "file_extension": ".py",
   "mimetype": "text/x-python",
   "name": "python",
   "nbconvert_exporter": "python",
   "pygments_lexer": "ipython3",
   "version": "3.10.12"
  }
 },
 "nbformat": 4,
 "nbformat_minor": 2
}
