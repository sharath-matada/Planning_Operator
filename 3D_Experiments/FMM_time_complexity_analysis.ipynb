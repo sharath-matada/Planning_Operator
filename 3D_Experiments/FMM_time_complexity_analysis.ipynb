{
 "cells": [
  {
   "cell_type": "code",
   "execution_count": 1,
   "metadata": {},
   "outputs": [],
   "source": [
    "import sys\n",
    "\n",
    "import numpy as np\n",
    "\n",
    "import argparse\n",
    "\n",
    "import os\n",
    "\n",
    "current_script_path = os.getcwd()\n",
    "main_folder_path = os.path.dirname(current_script_path)\n",
    "\n",
    "if main_folder_path not in sys.path:\n",
    "    sys.path.append(main_folder_path)\n",
    "\n",
    "\n",
    "from tqdm import tqdm \n",
    "\n",
    "import numpy as np\n",
    "import matplotlib.pyplot as plt\n",
    "import pykonal\n",
    "import random\n",
    "\n",
    "from scipy.io import loadmat\n",
    "\n",
    "import numpy as np\n",
    "import random\n",
    "import matplotlib.pyplot as plt\n",
    "from mpl_toolkits.mplot3d.art3d import Poly3DCollection\n",
    "from matplotlib.animation import FuncAnimation\n",
    "\n",
    "from scipy.ndimage import distance_transform_edt\n",
    "\n",
    "import time\n",
    "\n",
    "def tic():\n",
    "    return time.time()\n",
    "\n",
    "def toc(t0):\n",
    "    return time.time() - t0\n",
    "\n"
   ]
  },
  {
   "cell_type": "code",
   "execution_count": 2,
   "metadata": {},
   "outputs": [],
   "source": [
    "import numpy as np\n",
    "import random\n",
    "import matplotlib.pyplot as plt\n",
    "from mpl_toolkits.mplot3d.art3d import Poly3DCollection\n",
    "from matplotlib.animation import FuncAnimation\n",
    "\n",
    "def create_obstacles(space_size, num_obstacles, min_size, max_size):\n",
    "    \"\"\"\n",
    "    Create obstacles of different sizes in a 3D space and randomize their positions.\n",
    "    \n",
    "    Parameters:\n",
    "    space_size (tuple): The size of the 3D space (x, y, z).\n",
    "    num_obstacles (int): The number of obstacles to create.\n",
    "    min_size (tuple): The minimum size of the obstacles (dx, dy, dz).\n",
    "    max_size (tuple): The maximum size of the obstacles (dx, dy, dz).\n",
    "    \n",
    "    Returns:\n",
    "    list: A list of obstacle coordinates and sizes.\n",
    "    np.ndarray: A 3D mask representing the space with obstacles (0 inside obstacles, 1 in free space).\n",
    "    \"\"\"\n",
    "    obstacles = []\n",
    "    mask = np.ones(space_size, dtype=int)\n",
    "\n",
    "    def does_intersect(new_obstacle, existing_obstacles):\n",
    "        (nx, ny, nz), (ndx, ndy, ndz) = new_obstacle\n",
    "        for (ex, ey, ez), (edx, edy, edz) in existing_obstacles:\n",
    "            if (nx < ex + edx and nx + ndx > ex and\n",
    "                ny < ey + edy and ny + ndy > ey and\n",
    "                nz < ez + edz and nz + ndz > ez):\n",
    "                return True\n",
    "        return False\n",
    "\n",
    "    for _ in range(num_obstacles):\n",
    "        while True:\n",
    "            # Randomize the size of the obstacle\n",
    "            dx = random.randint(min_size[0], max_size[0])\n",
    "            dy = random.randint(min_size[1], max_size[1])\n",
    "            dz = random.randint(min_size[2], max_size[2])\n",
    "            \n",
    "            # Randomize the position of the obstacle\n",
    "            x = random.randint(0, space_size[0] - dx)\n",
    "            y = random.randint(0, space_size[1] - dy)\n",
    "            z = random.randint(0, space_size[2] - dz)\n",
    "            \n",
    "            new_obstacle = ((x, y, z), (dx, dy, dz))\n",
    "            \n",
    "            # Check if the new obstacle intersects with any existing obstacles\n",
    "            if not does_intersect(new_obstacle, obstacles):\n",
    "                # Place the obstacle in the space\n",
    "                mask[x:x+dx, y:y+dy, z:z+dz] = 0\n",
    "                obstacles.append(new_obstacle)\n",
    "                break\n",
    "\n",
    "    return obstacles, does_intersect, mask\n",
    "\n",
    "def plot_obstacles(space_size, obstacles, does_intersect):\n",
    "    \"\"\"\n",
    "    Plot the obstacles in a 3D space.\n",
    "    \n",
    "    Parameters:\n",
    "    space_size (tuple): The size of the 3D space (x, y, z).\n",
    "    obstacles (list): A list of obstacle coordinates and sizes.\n",
    "    \"\"\"\n",
    "    fig = plt.figure()\n",
    "    ax = fig.add_subplot(111, projection='3d')\n",
    "    \n",
    "    def update_plot(obstacles):\n",
    "        ax.cla()\n",
    "        for (x, y, z), (dx, dy, dz) in obstacles:\n",
    "            # Create a list of vertices for the cuboid\n",
    "            vertices = [\n",
    "                (x, y, z),\n",
    "                (x + dx, y, z),\n",
    "                (x + dx, y + dy, z),\n",
    "                (x, y + dy, z),\n",
    "                (x, y, z + dz),\n",
    "                (x + dx, y, z + dz),\n",
    "                (x + dx, y + dy, z + dz),\n",
    "                (x, y + dy, z + dz)\n",
    "            ]\n",
    "            \n",
    "            # Create a list of faces for the cuboid\n",
    "            faces = [\n",
    "                [vertices[0], vertices[1], vertices[2], vertices[3]],\n",
    "                [vertices[4], vertices[5], vertices[6], vertices[7]],\n",
    "                [vertices[0], vertices[1], vertices[5], vertices[4]],\n",
    "                [vertices[2], vertices[3], vertices[7], vertices[6]],\n",
    "                [vertices[1], vertices[2], vertices[6], vertices[5]],\n",
    "                [vertices[4], vertices[7], vertices[3], vertices[0]]\n",
    "            ]\n",
    "            \n",
    "            # Plot the cuboid\n",
    "            ax.add_collection3d(Poly3DCollection(faces, facecolors='blue', linewidths=1, edgecolors='r', alpha=.25))\n",
    "        \n",
    "        ax.set_xlabel('X')\n",
    "        ax.set_ylabel('Y')\n",
    "        ax.set_zlabel('Z')\n",
    "        \n",
    "        ax.set_xlim([0, space_size[0]])\n",
    "        ax.set_ylim([0, space_size[1]])\n",
    "        ax.set_zlim([0, space_size[2]])\n",
    "    \n",
    "    def update_obstacles(obstacles, space_size, does_intersect):\n",
    "        new_obstacles = []\n",
    "        for (dx, dy, dz) in [(obs[1][0], obs[1][1], obs[1][2]) for obs in obstacles]:\n",
    "            while True:\n",
    "                x = random.randint(0, space_size[0] - dx)\n",
    "                y = random.randint(0, space_size[1] - dy)\n",
    "                z = random.randint(0, space_size[2] - dz)\n",
    "                \n",
    "                new_obstacle = ((x, y, z), (dx, dy, dz))\n",
    "                \n",
    "                if not does_intersect(new_obstacle, new_obstacles + obstacles):\n",
    "                    new_obstacles.append(new_obstacle)\n",
    "                    break\n",
    "        return new_obstacles\n",
    "    \n",
    "    def animate(i):\n",
    "        nonlocal obstacles\n",
    "        obstacles = update_obstacles(obstacles, space_size, does_intersect)\n",
    "        update_plot(obstacles)\n",
    "    \n",
    "    ani = FuncAnimation(fig, animate, frames=100, interval=500)\n",
    "    \n",
    "    plt.show()\n",
    "\n",
    "# Example usage\n",
    "space_size = (20, 20, 20)  # Size of the 3D space\n",
    "num_obstacles = 10         # Number of obstacles to create\n",
    "min_size = (2, 2, 2)       # Minimum size of the obstacles\n",
    "max_size = (5, 5, 5)       # Maximum size of the obstacles\n",
    "\n",
    "obstacles, does_intersect, mask = create_obstacles(space_size, num_obstacles, min_size, max_size)\n"
   ]
  },
  {
   "cell_type": "code",
   "execution_count": 39,
   "metadata": {},
   "outputs": [
    {
     "name": "stderr",
     "output_type": "stream",
     "text": [
      "100%|██████████| 1/1 [00:04<00:00,  4.78s/it]"
     ]
    },
    {
     "name": "stdout",
     "output_type": "stream",
     "text": [
      "Environment Size: 110 Solver Took: 0.9183004856109619\n"
     ]
    },
    {
     "name": "stderr",
     "output_type": "stream",
     "text": [
      "\n"
     ]
    }
   ],
   "source": [
    "# Number of trials\n",
    "train_trial = 1\n",
    "test_trial = 0\n",
    "\n",
    "num_trials = train_trial+test_trial\n",
    "\n",
    "goal_trials = 5\n",
    "env_size = 110\n",
    "count = 0\n",
    "\n",
    "space_size = (env_size,env_size,env_size)  # Size of the 3D space\n",
    "num_obstacles = 10         # Number of obstacles to create\n",
    "min_size = (3, 3, 3)       # Minimum size of the obstacles\n",
    "max_size = (8, 8, 8)       # Maximum size of the obstacles\n",
    "\n",
    "x_values_array = np.zeros((env_size * env_size * env_size*1, num_trials * goal_trials))\n",
    "y_values_array = np.zeros((env_size * env_size * env_size* 1, num_trials * goal_trials))\n",
    "velocity_matrices_array = np.ones((num_trials * goal_trials, env_size, env_size,env_size))\n",
    "travel_time_values_array = np.zeros((num_trials * goal_trials, env_size, env_size,env_size))\n",
    "goals = np.zeros((num_trials * goal_trials, 3))\n",
    "\n",
    "for trial in tqdm(range(num_trials)):\n",
    "    obstacles, does_intersect, mask = create_obstacles(space_size, num_obstacles, min_size, max_size)\n",
    "    original_maze = mask\n",
    "    condition1 = original_maze == 1\n",
    "    x_indices, y_indices, z_indices = np.indices(original_maze.shape)\n",
    "    condition2 = (x_indices < env_size) & (y_indices < env_size) & (z_indices < env_size)\n",
    "    combined_condition = condition1 & condition2\n",
    "    dt = 0\n",
    "\n",
    "    for goal_trial in range(goal_trials):\n",
    "        passable_indices = np.argwhere(combined_condition)\n",
    "        high_values_mask = None\n",
    "        if passable_indices.size > 0:\n",
    "            if(trial * goal_trials + goal_trial!=count):\n",
    "                break\n",
    "            while np.all(travel_time_values_array[trial * goal_trials + goal_trial, :, :] == 0):\n",
    "                velocity_matrix = np.array(original_maze)\n",
    "                goal_index = random.choice(passable_indices)\n",
    "                goal = goal_index[0], goal_index[1], goal_index[2]\n",
    "\n",
    "                # Set up the Eikonal solver\n",
    "                t0 = tic()\n",
    "                solver = pykonal.EikonalSolver(coord_sys=\"cartesian\")\n",
    "                solver.velocity.min_coords = 0, 0, 0\n",
    "                solver.velocity.node_intervals = 1, 1, 1\n",
    "                solver.velocity.npts = env_size, env_size, env_size\n",
    "                solver.velocity.values = velocity_matrix.reshape(env_size, env_size, env_size)\n",
    "                src_idx = goal[0], goal[1], goal_index[2]\n",
    "                solver.traveltime.values[src_idx] = 0\n",
    "                solver.unknown[src_idx] = False\n",
    "                solver.trial.push(*src_idx)\n",
    "                solver.solve()\n",
    "                dt += toc(t0)\n",
    "\n",
    "                velocity_matrices_array[trial * goal_trials + goal_trial, :, :, :] = velocity_matrix\n",
    "                goals[trial * goal_trials + goal_trial,:] = goal\n",
    "                travel_time_values_array[trial * goal_trials + goal_trial, :, :, :] = solver.traveltime.values[:, :, :]\n",
    "                high_values_mask = solver.traveltime.values[:, :, :] > 1000\n",
    "                input_mask = (velocity_matrix == 0)\n",
    "                travel_time_values_array[trial * goal_trials + goal_trial, high_values_mask] = 0\n",
    "\n",
    "            if(high_values_mask!=input_mask).any():\n",
    "                velocity_matrices_array[trial * goal_trials + goal_trial, high_values_mask] = 0\n",
    "\n",
    "            if np.any(travel_time_values_array[trial * goal_trials + goal_trial, :, :, :] > 1000):\n",
    "                print(\"Not the right data\")\n",
    "                break\n",
    "            if np.all(travel_time_values_array[trial * goal_trials + goal_trial, :, :, :] == 0):\n",
    "                print(\"Not the right data\")\n",
    "                break\n",
    "        else:\n",
    "            print(\"Not the right data\")\n",
    "            break  \n",
    "        count+=1 \n",
    "\n",
    "print(\"Environment Size:\", env_size,\"Solver Took:\",dt/goal_trials)"
   ]
  },
  {
   "cell_type": "code",
   "execution_count": 68,
   "metadata": {},
   "outputs": [
    {
     "data": {
      "text/plain": [
       "Text(0.5, 1.0, 'Time Taken vs. Environment Size')"
      ]
     },
     "execution_count": 68,
     "metadata": {},
     "output_type": "execute_result"
    },
    {
     "data": {
      "image/png": "[encoded data removed]",
      "text/plain": [
       "<Figure size 640x480 with 1 Axes>"
      ]
     },
     "metadata": {},
     "output_type": "display_data"
    }
   ],
   "source": [
    "timetaken = np.array([0.003, 0.01, 0.029, 0.058, 0.109, 0.182, 0.282, 0.475, 0.665, 0.91, 1.262, 1.75, 2.29, 3.09, 4.35, 5.31, 6.44, 7.98, 10.9])\n",
    "envsize = np.arange(20,210,10)\n",
    "\n",
    "plt.plot(envsize,timetaken)\n",
    "plt.xlabel(\"Environment Size\")\n",
    "plt.ylabel(\"Time Taken(s)\")\n",
    "plt.grid(True)\n",
    "plt.yticks(range(int(min(timetaken)), int(max(timetaken)) + 1, 1))  # Adjust the range and step as needed\n",
    "plt.title('Time Taken vs. Environment Size(3D)')\n",
    "\n"
   ]
  },
  {
   "cell_type": "code",
   "execution_count": 69,
   "metadata": {},
   "outputs": [
    {
     "data": {
      "text/plain": [
       "Text(0.5, 1.0, 'Time Taken vs. Environment Size(3D)')"
      ]
     },
     "execution_count": 69,
     "metadata": {},
     "output_type": "execute_result"
    },
    {
     "data": {
      "image/png": "[encoded data removed]",
      "text/plain": [
       "<Figure size 640x480 with 1 Axes>"
      ]
     },
     "metadata": {},
     "output_type": "display_data"
    }
   ],
   "source": [
    "numofnodes = np.power(envsize, 3)\n",
    "\n",
    "\n",
    "plt.plot(numofnodes,timetaken)\n",
    "plt.xlabel(\"Number of Nodes\")\n",
    "plt.ylabel(\"Time Taken(s)\")\n",
    "plt.grid(True)\n",
    "plt.yticks(range(int(min(timetaken)), int(max(timetaken)) + 1, 1)) \n",
    "plt.title('Time Taken vs. Environment Size(3D)')\n"
   ]
  },
  {
   "cell_type": "code",
   "execution_count": 4,
   "metadata": {},
   "outputs": [
    {
     "ename": "FileNotFoundError",
     "evalue": "[Errno 2] No such file or directory: '3d_dataset_1/goals.npy'",
     "output_type": "error",
     "traceback": [
      "\u001b[0;31m---------------------------------------------------------------------------\u001b[0m",
      "\u001b[0;31mFileNotFoundError\u001b[0m                         Traceback (most recent call last)",
      "Cell \u001b[0;32mIn[4], line 1\u001b[0m\n\u001b[0;32m----> 1\u001b[0m \u001b[43mnp\u001b[49m\u001b[38;5;241;43m.\u001b[39;49m\u001b[43msave\u001b[49m\u001b[43m(\u001b[49m\u001b[38;5;124;43m\"\u001b[39;49m\u001b[38;5;124;43m3d_dataset_1/goals.npy\u001b[39;49m\u001b[38;5;124;43m\"\u001b[39;49m\u001b[43m,\u001b[49m\u001b[43mgoals\u001b[49m\u001b[43m)\u001b[49m\n\u001b[1;32m      3\u001b[0m \u001b[38;5;66;03m# Save velocity_matrices_array as \"mask.npy\"\u001b[39;00m\n\u001b[1;32m      4\u001b[0m np\u001b[38;5;241m.\u001b[39msave(\u001b[38;5;124m\"\u001b[39m\u001b[38;5;124m3d_dataset_1/mask.npy\u001b[39m\u001b[38;5;124m\"\u001b[39m, velocity_matrices_array)\n",
      "File \u001b[0;32m<__array_function__ internals>:200\u001b[0m, in \u001b[0;36msave\u001b[0;34m(*args, **kwargs)\u001b[0m\n",
      "File \u001b[0;32m~/anaconda3/envs/pykonal/lib/python3.8/site-packages/numpy/lib/npyio.py:518\u001b[0m, in \u001b[0;36msave\u001b[0;34m(file, arr, allow_pickle, fix_imports)\u001b[0m\n\u001b[1;32m    516\u001b[0m     \u001b[38;5;28;01mif\u001b[39;00m \u001b[38;5;129;01mnot\u001b[39;00m file\u001b[38;5;241m.\u001b[39mendswith(\u001b[38;5;124m'\u001b[39m\u001b[38;5;124m.npy\u001b[39m\u001b[38;5;124m'\u001b[39m):\n\u001b[1;32m    517\u001b[0m         file \u001b[38;5;241m=\u001b[39m file \u001b[38;5;241m+\u001b[39m \u001b[38;5;124m'\u001b[39m\u001b[38;5;124m.npy\u001b[39m\u001b[38;5;124m'\u001b[39m\n\u001b[0;32m--> 518\u001b[0m     file_ctx \u001b[38;5;241m=\u001b[39m \u001b[38;5;28;43mopen\u001b[39;49m\u001b[43m(\u001b[49m\u001b[43mfile\u001b[49m\u001b[43m,\u001b[49m\u001b[43m \u001b[49m\u001b[38;5;124;43m\"\u001b[39;49m\u001b[38;5;124;43mwb\u001b[39;49m\u001b[38;5;124;43m\"\u001b[39;49m\u001b[43m)\u001b[49m\n\u001b[1;32m    520\u001b[0m \u001b[38;5;28;01mwith\u001b[39;00m file_ctx \u001b[38;5;28;01mas\u001b[39;00m fid:\n\u001b[1;32m    521\u001b[0m     arr \u001b[38;5;241m=\u001b[39m np\u001b[38;5;241m.\u001b[39masanyarray(arr)\n",
      "\u001b[0;31mFileNotFoundError\u001b[0m: [Errno 2] No such file or directory: '3d_dataset_1/goals.npy'"
     ]
    }
   ],
   "source": [
    "np.save(\"3d_dataset_1/goals.npy\",goals)\n",
    "\n",
    "# Save velocity_matrices_array as \"mask.npy\"\n",
    "np.save(\"3d_dataset_1/mask.npy\", velocity_matrices_array)\n",
    "\n",
    "# Save travel_time_values_array as \"output.npy\"\n",
    "np.save(\"3d_dataset_1/output.npy\", travel_time_values_array)"
   ]
  },
  {
   "cell_type": "code",
   "execution_count": 5,
   "metadata": {},
   "outputs": [
    {
     "name": "stderr",
     "output_type": "stream",
     "text": [
      "100%|██████████| 500/500 [00:00<00:00, 844.13it/s]\n"
     ]
    }
   ],
   "source": [
    "\n",
    "def calculate_signed_distance(velocity_matrix):\n",
    "    # Compute the distance transform\n",
    "    distance = distance_transform_edt(velocity_matrix != 0)\n",
    "    return distance\n",
    "\n",
    "signed_distance_array = np.zeros((num_trials*goal_trials, env_size, env_size, env_size))\n",
    "\n",
    "for i in tqdm(range(0, num_trials*goal_trials)):\n",
    "    signed_distance_array[i,:,:,:] = calculate_signed_distance(velocity_matrices_array[i,:,:,:])\n",
    "\n",
    "# Save signed_distance_array as \"dist_in.npy\"\n",
    "# np.save(\"3d_dataset_1/dist_in.npy\", signed_distance_array)\n"
   ]
  },
  {
   "cell_type": "code",
   "execution_count": null,
   "metadata": {},
   "outputs": [],
   "source": []
  }
 ],
 "metadata": {
  "kernelspec": {
   "display_name": "pykonal",
   "language": "python",
   "name": "python3"
  },
  "language_info": {
   "codemirror_mode": {
    "name": "ipython",
    "version": 3
   },
   "file_extension": ".py",
   "mimetype": "text/x-python",
   "name": "python",
   "nbconvert_exporter": "python",
   "pygments_lexer": "ipython3",
   "version": "3.8.18"
  },
  "orig_nbformat": 4
 },
 "nbformat": 4,
 "nbformat_minor": 2
}
