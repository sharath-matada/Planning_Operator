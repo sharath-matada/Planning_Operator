{
 "cells": [
  {
   "cell_type": "code",
   "execution_count": 2,
   "metadata": {},
   "outputs": [],
   "source": [
    "import os\n",
    "import sys\n",
    "import matplotlib.pyplot as plt\n",
    "\n",
    "os.chdir('..')\n",
    "\n",
    "import numpy as np\n",
    "import torch\n",
    "import pandas as pd\n",
    "import random\n",
    "\n",
    "from models.TrainPlanningOperator3D import PlanningOperator3D\n",
    "\n",
    "from planners import generaterandompos, getPNOVal, getFMMVal\n",
    "from planners import AStarPlanner, FMMPlanner, PlanningOperatorPlanner, testplanneronmaps, plot_2d_map_and_two_paths\n",
    "\n"
   ]
  },
  {
   "cell_type": "markdown",
   "metadata": {},
   "source": [
    "Load Gibson Environment"
   ]
  },
  {
   "cell_type": "code",
   "execution_count": 4,
   "metadata": {},
   "outputs": [],
   "source": [
    "Ntotal = 800\n",
    "\n",
    "ntest = 160\n",
    "ntrain = 640\n",
    "\n",
    "sub = 1\n",
    "Sx = 62\n",
    "Sy = 160\n",
    "Sz = 160\n",
    "\n",
    "maps = np.load('/mountvol/igib-dataset-160-5G/mask.npy')\n",
    "maps = maps[:Ntotal][-ntest:, ::sub, ::sub, ::sub][:, :Sx, :Sy, :Sz]\n",
    "# maps = maps[:Ntotal][:ntrain:-, ::sub, ::sub, ::sub][:, :Sx, :Sy, :Sz]\n",
    "# maps = maps[0:8,:,:,:]\n",
    "# maps = np.repeat(maps, repeats=5, axis=0)\n",
    "\n"
   ]
  },
  {
   "cell_type": "markdown",
   "metadata": {},
   "source": [
    "Load Model"
   ]
  },
  {
   "cell_type": "code",
   "execution_count": 3,
   "metadata": {},
   "outputs": [
    {
     "name": "stderr",
     "output_type": "stream",
     "text": [
      "/tmp/ipykernel_16804/19159190.py:7: FutureWarning: You are using `torch.load` with `weights_only=False` (the current default value), which uses the default pickle module implicitly. It is possible to construct malicious pickle data which will execute arbitrary code during unpickling (See https://github.com/pytorch/pytorch/blob/main/SECURITY.md#untrusted-models for more details). In a future release, the default value for `weights_only` will be flipped to `True`. This limits the functions that could be executed during unpickling. Arbitrary objects will no longer be allowed to be loaded via this mode unless they are explicitly allowlisted by the user via `torch.serialization.add_safe_globals`. We recommend you start setting `weights_only=True` for any use case where you don't have full control of the loaded file. Please open an issue on GitHub for any issues related to this experimental feature.\n",
      "  model.load_state_dict(torch.load(\"/mountvol/igibchunk-dataset-84-10g/planningoperator_env84_m12_w32_l1_b10_lr3e-3_10g_23sep/n450_lr3.000000e-03_gamma6.000000e-01_wd3.000000e-06_seed5/model3d.ckpt\"))\n"
     ]
    },
    {
     "data": {
      "text/plain": [
       "PlanningOperator3D(\n",
       "  (fc0): Linear(in_features=3, out_features=32, bias=True)\n",
       "  (conv0): SpectralConv3d()\n",
       "  (w0): Conv3d(32, 32, kernel_size=(1, 1, 1), stride=(1, 1, 1))\n",
       "  (fc1): DeepNormMetric(\n",
       "    (Us): ModuleList(\n",
       "      (0-1): 2 x Linear(in_features=32, out_features=128, bias=False)\n",
       "    )\n",
       "    (Ws): ModuleList(\n",
       "      (0): ConstrainedLinear(in_features=128, out_features=128, bias=False)\n",
       "    )\n",
       "    (activation): MaxReLUPairwiseActivation(\n",
       "      (avg_pool): AvgPool1d(kernel_size=(2,), stride=(2,), padding=(0,))\n",
       "    )\n",
       "    (output_activation): ConcaveActivation()\n",
       "    (reduce_metric): ReduceMetric()\n",
       "  )\n",
       ")"
      ]
     },
     "execution_count": 3,
     "metadata": {},
     "output_type": "execute_result"
    }
   ],
   "source": [
    "\n",
    "\n",
    "# Model\n",
    "modes = 8\n",
    "width = 12\n",
    "nlayers = 1\n",
    "\n",
    "model = PlanningOperator3D(modes, modes, modes, width, nlayers)\n",
    "model.load_state_dict(torch.load(\"/mountvol/igib-dataset-160-5G/planningoperator_env160_m8_w12_l1_b5_lr3e-3_5g_26sep/n320_lr3.000000e-03_gamma6.000000e-01_wd3.000000e-06_seed5/model3d.ckpt\"))\n",
    "model.eval()\n",
    "device = torch.device('cuda' if torch.cuda.is_available() else 'cpu')\n",
    "model.to(device)\n"
   ]
  },
  {
   "cell_type": "markdown",
   "metadata": {},
   "source": [
    "Generate Random Positions"
   ]
  },
  {
   "cell_type": "code",
   "execution_count": 5,
   "metadata": {},
   "outputs": [],
   "source": [
    "import numpy as np\n",
    "\n",
    "# Assuming mask is of shape (100, X, Y, Z) and goalpositions is generated for 100 samples\n",
    "samuelsmask = mask[0,:,:,:]\n",
    "samuelsmask_array = np.repeat(samuelsmask[np.newaxis, :, :, :], 100, axis=0)\n",
    "\n",
    "# Generate random positions (assumed to return a 100x3 array for 100 goal positions)\n",
    "goalpositions = generaterandompos(samuelsmask_array)\n",
    "\n",
    "val_PNO_array = []\n",
    "\n",
    "# Loop through the 100 masks and goal positions\n",
    "for i in range(100):\n",
    "    val_PNO, _ = getPNOVal(goalpositions[i, :], boltonmask_array[i], model)\n",
    "    valFMM,_ = getFMMVal(goalpositions[i, :], boltonmask_array[i])\n",
    "    val_PNO_array.append(val_PNO)\n",
    "\n",
    "# Convert the list to a NumPy array for easier manipulation\n",
    "val_PNO_array = np.array(val_PNO_array)\n"
   ]
  }
 ],
 "metadata": {
  "kernelspec": {
   "display_name": "neuraloperator",
   "language": "python",
   "name": "python3"
  },
  "language_info": {
   "codemirror_mode": {
    "name": "ipython",
    "version": 3
   },
   "file_extension": ".py",
   "mimetype": "text/x-python",
   "name": "python",
   "nbconvert_exporter": "python",
   "pygments_lexer": "ipython3",
   "version": "3.11.9"
  }
 },
 "nbformat": 4,
 "nbformat_minor": 2
}
