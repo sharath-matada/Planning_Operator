{
 "cells": [
  {
   "cell_type": "code",
   "execution_count": 1,
   "metadata": {},
   "outputs": [],
   "source": [
    "import os\n",
    "import sys\n",
    "import matplotlib.pyplot as plt\n",
    "\n",
    "os.chdir('..')\n",
    "\n",
    "import numpy as np\n",
    "import torch\n",
    "import pandas as pd\n",
    "\n",
    "from models.TrainPlanningOperator3D import PlanningOperator3D\n",
    "\n",
    "from planners import generaterandompos\n",
    "from planners import AStarPlanner, FMMPlanner, PlanningOperatorPlanner\n",
    "\n"
   ]
  },
  {
   "cell_type": "markdown",
   "metadata": {},
   "source": [
    "Load Gibson Environment"
   ]
  },
  {
   "cell_type": "code",
   "execution_count": 2,
   "metadata": {},
   "outputs": [],
   "source": [
    "Ntotal = 32\n",
    "ntest = 8\n",
    "sub = 1\n",
    "Sx = 80\n",
    "Sy = 80\n",
    "Sz = 30\n",
    "\n",
    "maps = np.load('dataset/final_occupancy_map.npy')\n",
    "maps = maps[:Ntotal][-ntest:, ::sub, ::sub, ::sub][:, :Sx, :Sy, :Sz]\n",
    "\n"
   ]
  },
  {
   "cell_type": "markdown",
   "metadata": {},
   "source": [
    "Generate Random Positions"
   ]
  },
  {
   "cell_type": "code",
   "execution_count": 3,
   "metadata": {},
   "outputs": [],
   "source": [
    "startpositions = generaterandompos(maps)\n",
    "goalpositions = generaterandompos(maps)"
   ]
  },
  {
   "cell_type": "markdown",
   "metadata": {},
   "source": [
    "Test on Single Maps"
   ]
  },
  {
   "cell_type": "code",
   "execution_count": 4,
   "metadata": {},
   "outputs": [
    {
     "name": "stderr",
     "output_type": "stream",
     "text": [
      "/tmp/ipykernel_21000/1328886639.py:11: FutureWarning: You are using `torch.load` with `weights_only=False` (the current default value), which uses the default pickle module implicitly. It is possible to construct malicious pickle data which will execute arbitrary code during unpickling (See https://github.com/pytorch/pytorch/blob/main/SECURITY.md#untrusted-models for more details). In a future release, the default value for `weights_only` will be flipped to `True`. This limits the functions that could be executed during unpickling. Arbitrary objects will no longer be allowed to be loaded via this mode unless they are explicitly allowlisted by the user via `torch.serialization.add_safe_globals`. We recommend you start setting `weights_only=True` for any use case where you don't have full control of the loaded file. Please open an issue on GitHub for any issues related to this experimental feature.\n",
      "  model.load_state_dict(torch.load(\"/mountvol/dataset-80-15g/planningoperator_igibsonenv80_m6_w12_l1_b20_lr3e-3_15g_19sep/n480_lr3.000000e-03_gamma6.000000e-01_wd3.000000e-06_seed5/model3d.ckpt\"))\n"
     ]
    },
    {
     "name": "stdout",
     "output_type": "stream",
     "text": [
      "\n",
      "AStar\n",
      "Success: True \n",
      "PathCost: 10.438793109825916 \n",
      "PlanningTime: 0.007345438003540039\n",
      "\n",
      "FMM\n",
      "Success: True \n",
      "PathCost: 10.438793109825918 \n",
      "PlanningTime: 0.04166769981384277\n",
      "\n",
      "Planning Operator\n",
      "Success: True \n",
      "PathCost: 10.438793109825918 \n",
      "SDF Time: 0.04723072052001953 \n",
      "Inference Time: 0.4409158229827881 \n",
      "Gradient Descent Time: 0.0014371871948242188 \n",
      "Total Time 0.48958444595336914\n"
     ]
    }
   ],
   "source": [
    "mapx = maps[0,:,:,:]\n",
    "startx = startpositions[0,:]\n",
    "goalx = goalpositions[0,:]\n",
    "\n",
    "# Model\n",
    "modes = 6\n",
    "width = 12\n",
    "nlayers = 1\n",
    "\n",
    "model = PlanningOperator3D(modes, modes, modes, width, nlayers)\n",
    "model.load_state_dict(torch.load(\"/mountvol/dataset-80-15g/planningoperator_igibsonenv80_m6_w12_l1_b20_lr3e-3_15g_19sep/n480_lr3.000000e-03_gamma6.000000e-01_wd3.000000e-06_seed5/model3d.ckpt\"))\n",
    "model.eval()\n",
    "device = torch.device('cuda' if torch.cuda.is_available() else 'cpu')\n",
    "model.to(device)\n",
    "\n",
    "\n",
    "success,pathcost,planningtime = AStarPlanner(startx, goalx, mapx)\n",
    "\n",
    "print(\"\\nAStar\\nSuccess:\", success,\n",
    "      \"\\nPathCost:\", pathcost,\n",
    "      \"\\nPlanningTime:\",planningtime)\n",
    "\n",
    "\n",
    "success,pathcost,planningtime = FMMPlanner(startx, goalx, mapx)\n",
    "print(\"\\nFMM\\nSuccess:\", success,\n",
    "      \"\\nPathCost:\", pathcost,\n",
    "      \"\\nPlanningTime:\",planningtime)\n",
    "\n",
    "\n",
    "success,pathcost,tot_time, sdf_time, inf_time, gd_time = PlanningOperatorPlanner(startx, goalx, mapx, model)\n",
    "print(\"\\nPlanning Operator\\nSuccess:\", success,\n",
    "      \"\\nPathCost:\", pathcost,\n",
    "      \"\\nSDF Time:\",sdf_time,\n",
    "      \"\\nInference Time:\",inf_time,\n",
    "      \"\\nGradient Descent Time:\",gd_time, \n",
    "      \"\\nTotal Time\", tot_time)\n"
   ]
  }
 ],
 "metadata": {
  "kernelspec": {
   "display_name": "neuraloperator",
   "language": "python",
   "name": "python3"
  },
  "language_info": {
   "codemirror_mode": {
    "name": "ipython",
    "version": 3
   },
   "file_extension": ".py",
   "mimetype": "text/x-python",
   "name": "python",
   "nbconvert_exporter": "python",
   "pygments_lexer": "ipython3",
   "version": "3.11.9"
  }
 },
 "nbformat": 4,
 "nbformat_minor": 2
}
