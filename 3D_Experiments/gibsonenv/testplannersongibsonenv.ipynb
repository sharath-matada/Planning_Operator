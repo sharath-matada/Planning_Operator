{
 "cells": [
  {
   "cell_type": "code",
   "execution_count": 1,
   "metadata": {},
   "outputs": [
    {
     "name": "stderr",
     "output_type": "stream",
     "text": [
      "/home/sharath/anaconda3/envs/neuraloperator/lib/python3.8/site-packages/torch/cuda/__init__.py:138: UserWarning: CUDA initialization: CUDA unknown error - this may be due to an incorrectly set up environment, e.g. changing env variable CUDA_VISIBLE_DEVICES after program start. Setting the available devices to be zero. (Triggered internally at /opt/conda/conda-bld/pytorch_1695392036766/work/c10/cuda/CUDAFunctions.cpp:108.)\n",
      "  return torch._C._cuda_getDeviceCount() > 0\n"
     ]
    }
   ],
   "source": [
    "import os\n",
    "import sys\n",
    "import matplotlib.pyplot as plt\n",
    "\n",
    "os.chdir('..')\n",
    "\n",
    "import numpy as np\n",
    "import torch\n",
    "import pandas as pd\n",
    "\n",
    "from models.TrainPlanningOperator3D import PlanningOperator3D\n",
    "\n",
    "from planners import generaterandompos\n",
    "from planners import AStarPlanner, FMMPlanner, PlanningOperatorPlanner\n",
    "\n"
   ]
  },
  {
   "cell_type": "markdown",
   "metadata": {},
   "source": [
    "Load Gibson Environment"
   ]
  },
  {
   "cell_type": "code",
   "execution_count": 2,
   "metadata": {},
   "outputs": [],
   "source": [
    "Ntotal = 35\n",
    "ntest = 5\n",
    "sub = 1\n",
    "Sx = Sy = Sz = int(((128 - 1) / sub) + 1)\n",
    "\n",
    "maps = np.load('dataset/gibsonenv/occupancymap.npy', allow_pickle=True)\n",
    "sdfs = np.load('dataset/gibsonenv/sdf.npy',allow_pickle= True)\n",
    "\n",
    "\n",
    "maps = maps[:Ntotal][-ntest:, ::sub, ::sub, ::sub][:, :Sx, :Sy, :Sz]\n",
    "sdfs = sdfs[:Ntotal][-ntest:, ::sub, ::sub, ::sub][:, :Sx, :Sy, :Sz]\n"
   ]
  },
  {
   "cell_type": "markdown",
   "metadata": {},
   "source": [
    "Generate Random Positions"
   ]
  },
  {
   "cell_type": "code",
   "execution_count": 3,
   "metadata": {},
   "outputs": [],
   "source": [
    "startpositions = generaterandompos(maps)\n",
    "goalpositions = generaterandompos(maps)"
   ]
  },
  {
   "cell_type": "markdown",
   "metadata": {},
   "source": [
    "Test on Single Maps"
   ]
  },
  {
   "cell_type": "code",
   "execution_count": 4,
   "metadata": {},
   "outputs": [
    {
     "name": "stdout",
     "output_type": "stream",
     "text": [
      "\n",
      "AStar\n",
      "Success: True \n",
      "PathCost: 93.94306736958816 \n",
      "PlanningTime: 0.9826841354370117\n",
      "\n",
      "FMM\n",
      "Success: True \n",
      "PathCost: 96.2820843738848 \n",
      "PlanningTime: 0.43051862716674805\n"
     ]
    }
   ],
   "source": [
    "mapx = maps[0,:,:,:]\n",
    "sdfx = sdfs[0,:,:,:]\n",
    "startx = startpositions[0,:]\n",
    "goalx = goalpositions[0,:]\n",
    "\n",
    "# Model\n",
    "modes = 12\n",
    "width = 32\n",
    "nlayers = 5\n",
    "\n",
    "model = PlanningOperator3D(modes, modes, modes, width, nlayers)\n",
    "model.load_state_dict(torch.load(\"trained_models/modeldijkstra256.ckpt\"))\n",
    "model.eval()\n",
    "device = torch.device('cuda' if torch.cuda.is_available() else 'cpu')\n",
    "model.to(device)\n",
    "\n",
    "\n",
    "success,pathcost,planningtime = AStarPlanner(startx, goalx, mapx)\n",
    "\n",
    "print(\"\\nAStar\\nSuccess:\", success,\n",
    "      \"\\nPathCost:\", pathcost,\n",
    "      \"\\nPlanningTime:\",planningtime)\n",
    "\n",
    "\n",
    "success,pathcost,planningtime = FMMPlanner(startx, goalx, mapx)\n",
    "print(\"\\nFMM\\nSuccess:\", success,\n",
    "      \"\\nPathCost:\", pathcost,\n",
    "      \"\\nPlanningTime:\",planningtime)\n",
    "\n",
    "\n",
    "\n",
    "success,pathcost,planningtime = PlanningOperatorPlanner(startx, goalx, mapx, sdfx, model)\n",
    "print(\"\\nFMM\\nSuccess:\", success,\n",
    "      \"\\nPathCost:\", pathcost,\n",
    "      \"\\nPlanningTime:\",planningtime)\n"
   ]
  }
 ],
 "metadata": {
  "kernelspec": {
   "display_name": "neuraloperator",
   "language": "python",
   "name": "python3"
  },
  "language_info": {
   "codemirror_mode": {
    "name": "ipython",
    "version": 3
   },
   "file_extension": ".py",
   "mimetype": "text/x-python",
   "name": "python",
   "nbconvert_exporter": "python",
   "pygments_lexer": "ipython3",
   "version": "3.8.18"
  }
 },
 "nbformat": 4,
 "nbformat_minor": 2
}
