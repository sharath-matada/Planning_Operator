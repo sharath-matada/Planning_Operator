{
 "cells": [
  {
   "cell_type": "code",
   "execution_count": 1,
   "metadata": {},
   "outputs": [],
   "source": [
    "import os\n",
    "import sys\n",
    "import matplotlib.pyplot as plt\n",
    "\n",
    "os.chdir('..')\n",
    "\n",
    "import numpy as np\n",
    "import torch\n",
    "import pandas as pd\n",
    "\n",
    "from models.TrainPlanningOperator3D import PlanningOperator3D\n",
    "\n",
    "from planners import generaterandompos\n",
    "from planners import AStarPlanner, FMMPlanner, PlanningOperatorPlanner, testplanneronmaps, plot_2d_map_and_two_paths\n",
    "\n"
   ]
  },
  {
   "cell_type": "markdown",
   "metadata": {},
   "source": [
    "Load Gibson Environment"
   ]
  },
  {
   "cell_type": "code",
   "execution_count": 2,
   "metadata": {},
   "outputs": [],
   "source": [
    "Ntotal = 80\n",
    "\n",
    "ntest = 16\n",
    "ntrain = 8\n",
    "\n",
    "sub = 1\n",
    "Sx = 80\n",
    "Sy = 80\n",
    "Sz = 30\n",
    "\n",
    "maps = np.load('dataset/occupancymaps.npy')\n",
    "maps = maps[:Ntotal][:ntrain, ::sub, ::sub, ::sub][:, :Sx, :Sy, :Sz]\n",
    "# maps = maps[0:8,:,:,:]\n",
    "# maps = np.repeat(maps, repeats=5, axis=0)\n",
    "\n"
   ]
  },
  {
   "cell_type": "markdown",
   "metadata": {},
   "source": [
    "Load Model"
   ]
  },
  {
   "cell_type": "code",
   "execution_count": 3,
   "metadata": {},
   "outputs": [
    {
     "name": "stderr",
     "output_type": "stream",
     "text": [
      "/tmp/ipykernel_8162/1515835595.py:7: FutureWarning: You are using `torch.load` with `weights_only=False` (the current default value), which uses the default pickle module implicitly. It is possible to construct malicious pickle data which will execute arbitrary code during unpickling (See https://github.com/pytorch/pytorch/blob/main/SECURITY.md#untrusted-models for more details). In a future release, the default value for `weights_only` will be flipped to `True`. This limits the functions that could be executed during unpickling. Arbitrary objects will no longer be allowed to be loaded via this mode unless they are explicitly allowlisted by the user via `torch.serialization.add_safe_globals`. We recommend you start setting `weights_only=True` for any use case where you don't have full control of the loaded file. Please open an issue on GitHub for any issues related to this experimental feature.\n",
      "  model.load_state_dict(torch.load(\"/mountvol/igib-hexpo-dataset-80-10g/planningoperator_env80_m8_w32_l1_b5_lr3e-3_10g_22sep/n640_lr3.000000e-03_gamma6.000000e-01_wd3.000000e-06_seed5/model3d.ckpt\"))\n"
     ]
    },
    {
     "data": {
      "text/plain": [
       "PlanningOperator3D(\n",
       "  (fc0): Linear(in_features=3, out_features=24, bias=True)\n",
       "  (conv0): SpectralConv3d()\n",
       "  (w0): Conv3d(24, 24, kernel_size=(1, 1, 1), stride=(1, 1, 1))\n",
       "  (fc1): DeepNormMetric(\n",
       "    (Us): ModuleList(\n",
       "      (0-1): 2 x Linear(in_features=24, out_features=128, bias=False)\n",
       "    )\n",
       "    (Ws): ModuleList(\n",
       "      (0): ConstrainedLinear(in_features=128, out_features=128, bias=False)\n",
       "    )\n",
       "    (activation): MaxReLUPairwiseActivation(\n",
       "      (avg_pool): AvgPool1d(kernel_size=(2,), stride=(2,), padding=(0,))\n",
       "    )\n",
       "    (output_activation): ConcaveActivation()\n",
       "    (reduce_metric): ReduceMetric()\n",
       "  )\n",
       ")"
      ]
     },
     "execution_count": 3,
     "metadata": {},
     "output_type": "execute_result"
    }
   ],
   "source": [
    "\n",
    "\n",
    "# Model\n",
    "modes = 5\n",
    "width = 24\n",
    "nlayers = 1\n",
    "\n",
    "model = PlanningOperator3D(modes, modes, modes, width, nlayers)\n",
    "model.load_state_dict(torch.load(\"/mountvol/igib-hexpo-dataset-80-10g/planningoperator_env80_m8_w32_l1_b5_lr3e-3_10g_22sep/n640_lr3.000000e-03_gamma6.000000e-01_wd3.000000e-06_seed5/model3d.ckpt\"))\n",
    "model.eval()\n",
    "device = torch.device('cuda' if torch.cuda.is_available() else 'cpu')\n",
    "model.to(device)\n"
   ]
  },
  {
   "cell_type": "code",
   "execution_count": 4,
   "metadata": {},
   "outputs": [
    {
     "name": "stdout",
     "output_type": "stream",
     "text": [
      "Start [50 10 14]\n",
      "Goal [45 14 14]\n",
      "\n",
      "AStar\n",
      "Success: False \n",
      "PathCost: inf \n",
      "PlanningTime: 4.04706883430481\n",
      "\n",
      "FMM\n",
      "Success: False \n",
      "PathCost: 0 \n",
      "PlanningTime: 0.006693124771118164\n",
      "\n",
      "Planning Operator\n",
      "Success: False \n",
      "PathCost: 0 \n",
      "Total Time 0.8187763690948486\n"
     ]
    },
    {
     "data": {
      "image/png": "[encoded data removed]",
      "text/plain": [
       "<Figure size 800x800 with 1 Axes>"
      ]
     },
     "metadata": {},
     "output_type": "display_data"
    }
   ],
   "source": [
    "startpositions = generaterandompos(maps)\n",
    "goalpositions = generaterandompos(maps)\n",
    "\n",
    "mapx = maps[4,:,:,:]\n",
    "startx = startpositions[0,:]\n",
    "print(\"Start\",startx)\n",
    "goalx = goalpositions[0,:]\n",
    "goalx[2] = startx[2]\n",
    "print(\"Goal\",goalx)\n",
    "\n",
    "\n",
    "success,pathcost,planningtime, path = AStarPlanner(startx, goalx, mapx)\n",
    "\n",
    "print(\"\\nAStar\\nSuccess:\", success,\n",
    "      \"\\nPathCost:\", pathcost,\n",
    "      \"\\nPlanningTime:\",planningtime)\n",
    "\n",
    "\n",
    "success,pathcost,planningtime, path_1 = FMMPlanner(startx, goalx, mapx)\n",
    "print(\"\\nFMM\\nSuccess:\", success,\n",
    "      \"\\nPathCost:\", pathcost,\n",
    "      \"\\nPlanningTime:\",planningtime)\n",
    "\n",
    "\n",
    "success,pathcost,tot_time, path_2 = PlanningOperatorPlanner(startx, goalx, mapx, model)\n",
    "print(\"\\nPlanning Operator\\nSuccess:\", success,\n",
    "      \"\\nPathCost:\", pathcost,\n",
    "      \"\\nTotal Time\", tot_time)\n",
    "\n",
    "\n",
    "plot_2d_map_and_two_paths(path_2,path_1,mapx,z_index=goalx[2])\n"
   ]
  },
  {
   "cell_type": "markdown",
   "metadata": {},
   "source": [
    "Generate Random Positions"
   ]
  },
  {
   "cell_type": "code",
   "execution_count": 5,
   "metadata": {},
   "outputs": [
    {
     "name": "stdout",
     "output_type": "stream",
     "text": [
      "[[37 19 17]\n",
      " [22 30 16]\n",
      " [47 15 14]\n",
      " [63 56  9]\n",
      " [35 41 19]\n",
      " [43 32  7]\n",
      " [18 36 13]\n",
      " [33 64 10]]\n",
      "[[51 57 17]\n",
      " [24 52  7]\n",
      " [46 13 20]\n",
      " [47 48 19]\n",
      " [51 74  8]\n",
      " [20 59 16]\n",
      " [48 31 17]\n",
      " [76 38 16]]\n"
     ]
    }
   ],
   "source": [
    "startpositions = generaterandompos(maps)\n",
    "print(startpositions)\n",
    "goalpositions = generaterandompos(maps)\n",
    "goalpositions[0][2] = startpositions[0][2]\n",
    "print(goalpositions)"
   ]
  },
  {
   "cell_type": "code",
   "execution_count": 6,
   "metadata": {},
   "outputs": [
    {
     "name": "stdout",
     "output_type": "stream",
     "text": [
      "Average Path Cost: inf \n",
      "Average Planning Time: 0.2755540907382965 \n",
      "Average Success Rate: 0.875\n"
     ]
    },
    {
     "data": {
      "text/plain": [
       "(inf, 0.2755540907382965, 0.875)"
      ]
     },
     "execution_count": 6,
     "metadata": {},
     "output_type": "execute_result"
    }
   ],
   "source": [
    "testplanneronmaps(startpositions,goalpositions,maps,AStarPlanner,printvalues=True)"
   ]
  },
  {
   "cell_type": "code",
   "execution_count": 7,
   "metadata": {},
   "outputs": [
    {
     "name": "stdout",
     "output_type": "stream",
     "text": [
      "Average Path Cost: 27.40143756486692 \n",
      "Average Planning Time: 0.031978458166122437 \n",
      "Average Success Rate: 0.875\n"
     ]
    },
    {
     "data": {
      "text/plain": [
       "(27.40143756486692, 0.031978458166122437, 0.875)"
      ]
     },
     "execution_count": 7,
     "metadata": {},
     "output_type": "execute_result"
    }
   ],
   "source": [
    "testplanneronmaps(startpositions,goalpositions,maps,FMMPlanner,printvalues=True)"
   ]
  },
  {
   "cell_type": "code",
   "execution_count": 8,
   "metadata": {},
   "outputs": [
    {
     "name": "stdout",
     "output_type": "stream",
     "text": [
      "Average Path Cost: 18.685872280741183 \n",
      "Average Planning Time: 0.2176862359046936 \n",
      "Average Success Rate: 0.625\n"
     ]
    },
    {
     "data": {
      "text/plain": [
       "(18.685872280741183, 0.2176862359046936, 0.625)"
      ]
     },
     "execution_count": 8,
     "metadata": {},
     "output_type": "execute_result"
    }
   ],
   "source": [
    "testplanneronmaps(startpositions,goalpositions,maps,PlanningOperatorPlanner,printvalues=True, model=model)"
   ]
  }
 ],
 "metadata": {
  "kernelspec": {
   "display_name": "neuraloperator",
   "language": "python",
   "name": "python3"
  },
  "language_info": {
   "codemirror_mode": {
    "name": "ipython",
    "version": 3
   },
   "file_extension": ".py",
   "mimetype": "text/x-python",
   "name": "python",
   "nbconvert_exporter": "python",
   "pygments_lexer": "ipython3",
   "version": "3.11.9"
  }
 },
 "nbformat": 4,
 "nbformat_minor": 2
}
